{
 "cells": [
  {
   "cell_type": "code",
   "execution_count": 1,
   "id": "944c7264",
   "metadata": {},
   "outputs": [],
   "source": [
    "from conllu import parse_tree"
   ]
  },
  {
   "cell_type": "code",
   "execution_count": 2,
   "id": "37c1794e",
   "metadata": {},
   "outputs": [],
   "source": [
    "language = \"UD_Spanish-GSD\"\n",
    "file_name = \"es_gsd-ud-train\"\n",
    "\n",
    "conllu_file = f\"../data/deep/{language}/{file_name}.conllu\"\n",
    "\n",
    "with open(conllu_file, 'r', encoding='utf-8') as file:\n",
    "        data = file.read()\n",
    "    \n",
    "sentences = parse_tree(data)\n",
    "\n"
   ]
  },
  {
   "cell_type": "code",
   "execution_count": 36,
   "id": "80338c90",
   "metadata": {},
   "outputs": [],
   "source": [
    "token = sentences[138]"
   ]
  },
  {
   "cell_type": "code",
   "execution_count": 37,
   "id": "01cb188e",
   "metadata": {},
   "outputs": [
    {
     "name": "stdout",
     "output_type": "stream",
     "text": [
      "(deprel:root) form:encuentra lemma:encontrar upos:VERB [3]\n",
      "    (deprel:nsubj) form:Batavia lemma:batavia upos:PROPN [1]\n",
      "    (deprel:iobj) form:se lemma:él upos:PRON [2]\n",
      "    (deprel:advcl) form:ubicada lemma:ubicado upos:PROPN [4]\n",
      "        (deprel:nmod) form:coordenadas lemma:coordenada upos:NOUN [7]\n",
      "            (deprel:case) form:en lemma:en upos:ADP [5]\n",
      "            (deprel:det) form:las lemma:el upos:DET [6]\n",
      "    (deprel:punct) form:. lemma:. upos:PUNCT [8]\n",
      "None\n"
     ]
    }
   ],
   "source": [
    "print(token.print_tree())"
   ]
  },
  {
   "cell_type": "code",
   "execution_count": 38,
   "id": "77a1de05",
   "metadata": {},
   "outputs": [
    {
     "data": {
      "text/plain": [
       "'VERB'"
      ]
     },
     "execution_count": 38,
     "metadata": {},
     "output_type": "execute_result"
    }
   ],
   "source": [
    "token.token[\"upos\"]"
   ]
  },
  {
   "cell_type": "code",
   "execution_count": 87,
   "id": "5ea8cf1c",
   "metadata": {},
   "outputs": [
    {
     "data": {
      "text/plain": [
       "[TokenTree<token={id=1, form=Además}, children=None>,\n",
       " TokenTree<token={id=2, form=se}, children=None>,\n",
       " TokenTree<token={id=3, form=le}, children=None>,\n",
       " TokenTree<token={id=7, form=empresas}, children=[...]>,\n",
       " TokenTree<token={id=15, form=hagan}, children=[...]>,\n",
       " TokenTree<token={id=29, form=.}, children=None>]"
      ]
     },
     "execution_count": 87,
     "metadata": {},
     "output_type": "execute_result"
    }
   ],
   "source": [
    "token.children"
   ]
  },
  {
   "cell_type": "code",
   "execution_count": 6,
   "id": "68eea444",
   "metadata": {},
   "outputs": [],
   "source": [
    "import networkx as nx\n",
    "import os\n",
    "\n",
    "final_dir = f\"../data/graphs_labeled/{language}\"\n",
    "if not os.path.exists(final_dir):\n",
    "    os.makedirs(final_dir)\n",
    "\n",
    "\n",
    "def add_edges(graph, nodo):\n",
    "    children = nodo.children\n",
    "    if children!=[]:\n",
    "        for hijo in nodo.children:\n",
    "            graph.add_node(hijo.token[\"id\"], form=hijo.token[\"form\"])\n",
    "            graph.add_edge(nodo.token[\"id\"], hijo.token[\"id\"])\n",
    "            \n",
    "    return list(children)\n",
    " \n",
    "\n",
    "def get_tree(root):\n",
    "    graph = nx.DiGraph()\n",
    "    actual_node = root\n",
    "    graph.graph[\"phrase\"] = actual_node.metadata[\"text\"]\n",
    "    graph.graph[\"root\"] = actual_node.token[\"id\"]\n",
    "    nodes = root.children\n",
    "    while nodes!=[]:\n",
    "        graph.add_node(actual_node.token[\"id\"], form=actual_node.token[\"form\"], label=actual_node.token[\"upos\"])\n",
    "        nodes = nodes + add_edges(graph=graph, nodo=actual_node)\n",
    "        actual_node = nodes.pop(0)\n",
    "    \n",
    "    return graph\n",
    "        \n",
    "\n",
    "for i, sentence in enumerate(sentences):\n",
    "    root = sentence\n",
    "    graph = get_tree(root)\n",
    "    nx.write_graphml(graph, f\"../data/graphs/{language}/{file_name}_{i}.graphml\")"
   ]
  },
  {
   "cell_type": "markdown",
   "id": "fb4051b0",
   "metadata": {},
   "source": [
    "# Crear tabla con centralidad"
   ]
  },
  {
   "cell_type": "code",
   "execution_count": 6,
   "id": "446b5e1e",
   "metadata": {},
   "outputs": [
    {
     "name": "stdout",
     "output_type": "stream",
     "text": [
      "{'realizó': {'Betweenness': 0.05094905094905095, 'PageRank': 0.02060452564421404, 'Closeness': 0.10025706940874037, 'Harmonic': 11.943647447323922, 'All_subgraphs': 52.974663803391344, 'Degree': 3}, 'Tesla': {'Betweenness': 0.02564102564102564, 'PageRank': 0.013841277759893373, 'Closeness': 0.1491395793499044, 'Harmonic': 14.986544011544002, 'All_subgraphs': 52.88167955255407, 'Degree': 2}, 'trabajos': {'Betweenness': 0.07492507492507493, 'PageRank': 0.01306872400945453, 'Closeness': 0.11063829787234042, 'Harmonic': 12.885095460095457, 'All_subgraphs': 53.296591898278706, 'Degree': 2}, '.': {'Betweenness': 0.0, 'PageRank': 0.007737343416799795, 'Closeness': 0.0912280701754386, 'Harmonic': 9.76257835301952, 'All_subgraphs': 51.974663803391344, 'Degree': 1}, 'avanzados': {'Betweenness': 0.09856809856809856, 'PageRank': 0.01254349454502634, 'Closeness': 0.12302839116719243, 'Harmonic': 14.470626595626584, 'All_subgraphs': 53.5596263041125, 'Degree': 2}, 'más': {'Betweenness': 0.14552114552114553, 'PageRank': 0.017969338283425715, 'Closeness': 0.13805309734513274, 'Harmonic': 17.20903818403817, 'All_subgraphs': 53.78201872544895, 'Degree': 3}, 'muchos': {'Betweenness': 0.0, 'PageRank': 0.006989829198809557, 'Closeness': 0.12149532710280374, 'Harmonic': 13.287293262293257, 'All_subgraphs': 52.78201872544895, 'Degree': 1}, 'pioneros': {'Betweenness': 0.4358974358974359, 'PageRank': 0.0395098658000143, 'Closeness': 0.156, 'Harmonic': 21.466472416472413, 'All_subgraphs': 53.88155439899986, 'Degree': 7}, 'que': {'Betweenness': 0.0, 'PageRank': 0.006826680471410905, 'Closeness': 0.16631130063965885, 'Harmonic': 15.963131313131301, 'All_subgraphs': 52.88167884861804, 'Degree': 1}, 'los': {'Betweenness': 0.0, 'PageRank': 0.006696377213023746, 'Closeness': 0.13518197573656845, 'Harmonic': 15.325704850704845, 'All_subgraphs': 52.88155439899986, 'Degree': 1}, 'otros': {'Betweenness': 0.0, 'PageRank': 0.006696377213023746, 'Closeness': 0.13518197573656845, 'Harmonic': 15.325704850704845, 'All_subgraphs': 52.88155439899986, 'Degree': 1}, 'transmisión': {'Betweenness': 0.10023310023310024, 'PageRank': 0.024652934834832038, 'Closeness': 0.13708260105448156, 'Harmonic': 17.57570485070483, 'All_subgraphs': 53.766077181579924, 'Degree': 4}, 'Hertz': {'Betweenness': 0.10023310023310024, 'PageRank': 0.024652934834832038, 'Closeness': 0.13708260105448156, 'Harmonic': 17.575704850704827, 'All_subgraphs': 53.766077181579924, 'Degree': 4}, 'usaron': {'Betweenness': 0.4172494172494173, 'PageRank': 0.01752945383742721, 'Closeness': 0.16846652267818574, 'Harmonic': 19.44264069264069, 'All_subgraphs': 53.881625536052965, 'Degree': 3}, 'de': {'Betweenness': 0.0, 'PageRank': 0.007752115445611626, 'Closeness': 0.10012836970474968, 'Harmonic': 10.44169204978029, 'All_subgraphs': 52.162856376603564, 'Degree': 1}, 'la': {'Betweenness': 0.0, 'PageRank': 0.007055704324112873, 'Closeness': 0.12244897959183673, 'Harmonic': 12.908313908313906, 'All_subgraphs': 52.825821389325995, 'Degree': 1}, 'hilos': {'Betweenness': 0.02564102564102564, 'PageRank': 0.013700856613986576, 'Closeness': 0.12111801242236025, 'Harmonic': 14.006340881340872, 'All_subgraphs': 53.18111468085877, 'Degree': 2}, ',': {'Betweenness': 0.0, 'PageRank': 0.007063779008813149, 'Closeness': 0.12400635930047695, 'Harmonic': 13.901171051171048, 'All_subgraphs': 52.86286243831683, 'Degree': 1}, 'Marconi': {'Betweenness': 0.02564102564102564, 'PageRank': 0.013700856613986578, 'Closeness': 0.12111801242236025, 'Harmonic': 14.006340881340874, 'All_subgraphs': 53.18111468085877, 'Degree': 2}, 'quienes': {'Betweenness': 0.0, 'PageRank': 0.006865540448315027, 'Closeness': 0.14444444444444443, 'Harmonic': 14.868853368853364, 'All_subgraphs': 52.881625536052965, 'Degree': 1}, 'frecuencias': {'Betweenness': 0.43922743922743923, 'PageRank': 0.017639153012799204, 'Closeness': 0.1813953488372093, 'Harmonic': 19.70562770562771, 'All_subgraphs': 53.88166110326154, 'Degree': 3}, 'sin': {'Betweenness': 0.0, 'PageRank': 0.007721579213495323, 'Closeness': 0.10818307905686546, 'Harmonic': 11.411285936285935, 'All_subgraphs': 52.18111468085877, 'Degree': 1}, 'y': {'Betweenness': 0.0, 'PageRank': 0.007752115445611626, 'Closeness': 0.10012836970474968, 'Harmonic': 10.44169204978029, 'All_subgraphs': 52.162856376603564, 'Degree': 1}, 'altas': {'Betweenness': 0.0, 'PageRank': 0.007119796591759996, 'Closeness': 0.14971209213051823, 'Harmonic': 14.819877344877336, 'All_subgraphs': 52.76620233513413, 'Degree': 1}, 'resonaban': {'Betweenness': 0.5391275391275391, 'PageRank': 0.03466713886282016, 'Closeness': 0.19451371571072318, 'Harmonic': 21.947222222222226, 'All_subgraphs': 53.88167888653172, 'Degree': 6}, 'no': {'Betweenness': 0.0, 'PageRank': 0.006810283919580827, 'Closeness': 0.16317991631799164, 'Harmonic': 16.12904040404039, 'All_subgraphs': 52.88167888653172, 'Degree': 1}, 'tierra': {'Betweenness': 0.05094905094905095, 'PageRank': 0.019374500456516654, 'Closeness': 0.1387900355871886, 'Harmonic': 16.419477744477746, 'All_subgraphs': 53.558856251426725, 'Degree': 3}, 'diferencia': {'Betweenness': 0.5051615051615052, 'PageRank': 0.017362830895091372, 'Closeness': 0.20207253886010362, 'Harmonic': 21.408730158730158, 'All_subgraphs': 53.88167933082875, 'Degree': 3}, 'con': {'Betweenness': 0.0, 'PageRank': 0.0073854795799107465, 'Closeness': 0.14156079854809436, 'Harmonic': 13.721608946608935, 'All_subgraphs': 52.55975079164436, 'Degree': 1}, 'a': {'Betweenness': 0.0, 'PageRank': 0.00681781218971406, 'Closeness': 0.16846652267818574, 'Harmonic': 16.183333333333326, 'All_subgraphs': 52.88167933082875, 'Degree': 1}, 'ondas': {'Betweenness': 0.6536796536796536, 'PageRank': 0.044768315919458845, 'Closeness': 0.208, 'Harmonic': 24.393253968253966, 'All_subgraphs': 53.88167955255407, 'Degree': 8}, 'las': {'Betweenness': 0.0, 'PageRank': 0.007063779008813149, 'Closeness': 0.12400635930047695, 'Harmonic': 13.901171051171048, 'All_subgraphs': 52.86286243831683, 'Degree': 1}, 'radio': {'Betweenness': 0.02564102564102564, 'PageRank': 0.01294674915325499, 'Closeness': 0.17333333333333334, 'Harmonic': 17.95523088023087, 'All_subgraphs': 53.296717051832914, 'Degree': 2}, 'longitudes': {'Betweenness': 0.10023310023310024, 'PageRank': 0.024571814634452113, 'Closeness': 0.17567567567567569, 'Harmonic': 19.538564213564214, 'All_subgraphs': 53.76620233513413, 'Degree': 4}, 'empleadas': {'Betweenness': 0.050616050616050616, 'PageRank': 0.012538747053940728, 'Closeness': 0.17410714285714285, 'Harmonic': 18.20523088023087, 'All_subgraphs': 53.46664205327522, 'Degree': 2}, 'tenían': {'Betweenness': 0.48917748917748916, 'PageRank': 0.01739320506122275, 'Closeness': 0.1989795918367347, 'Harmonic': 20.941341991341993, 'All_subgraphs': 53.88167884861804, 'Degree': 3}, 'onda': {'Betweenness': 0.02564102564102564, 'PageRank': 0.01367302071464542, 'Closeness': 0.15028901734104047, 'Harmonic': 15.486544011544002, 'All_subgraphs': 53.18123983441298, 'Degree': 2}, 'ventaja': {'Betweenness': 0.4751914751914752, 'PageRank': 0.0174169092730755, 'Closeness': 0.18886198547215496, 'Harmonic': 20.215512265512263, 'All_subgraphs': 53.88167744047776, 'Degree': 3}, 'por': {'Betweenness': 0.0, 'PageRank': 0.0077817372127870574, 'Closeness': 0.13, 'Harmonic': 12.317915417915408, 'All_subgraphs': 51.88167955255407, 'Degree': 1}, 'recibidas': {'Betweenness': 0.5131535131535132, 'PageRank': 0.028125312777678567, 'Closeness': 0.1780821917808219, 'Harmonic': 21.43133533133532, 'All_subgraphs': 53.8816746240595, 'Degree': 5}, 'ser': {'Betweenness': 0.0, 'PageRank': 0.006680447663159339, 'Closeness': 0.15145631067961166, 'Harmonic': 15.835941835941838, 'All_subgraphs': 52.8816746240595, 'Degree': 1}, 'sitios': {'Betweenness': 0.297036297036297, 'PageRank': 0.02892226160088007, 'Closeness': 0.15950920245398773, 'Harmonic': 20.519275169275172, 'All_subgraphs': 53.88078434631409, 'Degree': 5}, 'mantener': {'Betweenness': 0.20945720945720947, 'PageRank': 0.01771864163207058, 'Closeness': 0.15694164989939638, 'Harmonic': 18.235941835941837, 'All_subgraphs': 53.863296094744655, 'Degree': 3}, 'en': {'Betweenness': 0.0, 'PageRank': 0.007063779008813149, 'Closeness': 0.12400635930047695, 'Harmonic': 13.901171051171048, 'All_subgraphs': 52.86286243831683, 'Degree': 1}, 'remotos': {'Betweenness': 0.0, 'PageRank': 0.006814839323029065, 'Closeness': 0.13780918727915195, 'Harmonic': 15.086144411144414, 'All_subgraphs': 52.88078434631409, 'Degree': 1}, 'profundidades': {'Betweenness': 0.1714951714951715, 'PageRank': 0.03645317830124937, 'Closeness': 0.14130434782608695, 'Harmonic': 18.91947774447775, 'All_subgraphs': 53.86286243831683, 'Degree': 6}, 'para': {'Betweenness': 0.0, 'PageRank': 0.006918623785460567, 'Closeness': 0.13588850174216027, 'Harmonic': 14.117096792096788, 'All_subgraphs': 52.863296094744655, 'Degree': 1}, 'comunicación': {'Betweenness': 0.1674991674991675, 'PageRank': 0.018199767430745695, 'Closeness': 0.1392857142857143, 'Harmonic': 16.467096792096786, 'All_subgraphs': 53.825821389325995, 'Degree': 3}, 'o': {'Betweenness': 0.0, 'PageRank': 0.007063779008813149, 'Closeness': 0.12400635930047695, 'Harmonic': 13.901171051171048, 'All_subgraphs': 52.86286243831683, 'Degree': 1}, 'mar': {'Betweenness': 0.05094905094905095, 'PageRank': 0.0198558006799804, 'Closeness': 0.1248, 'Harmonic': 15.23450438450438, 'All_subgraphs': 53.54093434342947, 'Degree': 3}, 'naves': {'Betweenness': 0.12420912420912421, 'PageRank': 0.02486827531301315, 'Closeness': 0.12440191387559808, 'Harmonic': 15.408313908313904, 'All_subgraphs': 53.747818877324725, 'Degree': 4}, 'el': {'Betweenness': 0.0, 'PageRank': 0.007523643041734567, 'Closeness': 0.1111111111111111, 'Harmonic': 11.998179026855496, 'All_subgraphs': 52.54093434342947, 'Degree': 1}, 'entre': {'Betweenness': 0.0, 'PageRank': 0.00718289692696744, 'Closeness': 0.11079545454545454, 'Harmonic': 11.96524251891899, 'All_subgraphs': 52.747818877324725, 'Degree': 1}, 'superficie': {'Betweenness': 0.02564102564102564, 'PageRank': 0.013771858345483811, 'Closeness': 0.1111111111111111, 'Harmonic': 12.631909185585656, 'All_subgraphs': 53.162856376603564, 'Degree': 2}, 'submarinos': {'Betweenness': 0.02564102564102564, 'PageRank': 0.013771858345483811, 'Closeness': 0.1111111111111111, 'Harmonic': 12.631909185585656, 'All_subgraphs': 53.162856376603564, 'Degree': 2}}\n"
     ]
    }
   ],
   "source": [
    "import networkx as nx\n",
    "from asg_cen.all_subgraphs_centrality import all_subgraphs_centrality as asg\n",
    "import pandas as pd\n",
    "\n",
    "\n",
    "G = nx.read_graphml(\"UD_Spanish-GSD/es_gsd-ud-train_2571.graphml\").to_undirected()\n",
    "\n",
    "bet = nx.betweenness_centrality(G)\n",
    "pr = nx.pagerank(G)\n",
    "close = nx.closeness_centrality(G)\n",
    "harm = nx.harmonic_centrality(G)\n",
    "asg_cen = asg(G)\n",
    "deg = nx.degree(G)\n",
    "\n",
    "dicc = {}\n",
    "for node in G.nodes():\n",
    "    dicc[G.nodes[node].get(\"form\")] = {} \n",
    "    dicc[G.nodes[node].get(\"form\")][\"Betweenness\"] = bet[node]\n",
    "    dicc[G.nodes[node].get(\"form\")][\"PageRank\"] = pr[node]\n",
    "    dicc[G.nodes[node].get(\"form\")][\"Closeness\"] = close[node]\n",
    "    dicc[G.nodes[node].get(\"form\")][\"Harmonic\"] = harm[node]\n",
    "    dicc[G.nodes[node].get(\"form\")][\"All_subgraphs\"] = asg_cen[node]\n",
    "    dicc[G.nodes[node].get(\"form\")][\"Degree\"] = deg[node]\n",
    "\n",
    "print(dicc)\n"
   ]
  },
  {
   "cell_type": "code",
   "execution_count": 10,
   "id": "c5cbe338",
   "metadata": {},
   "outputs": [],
   "source": [
    "pd.DataFrame(dicc).T.to_csv(\"../2571.csv\", index=False)"
   ]
  },
  {
   "cell_type": "markdown",
   "id": "3239fc10",
   "metadata": {},
   "source": [
    "# Pruebas stanza and conllu"
   ]
  },
  {
   "cell_type": "code",
   "execution_count": 8,
   "id": "f603ead4",
   "metadata": {},
   "outputs": [
    {
     "name": "stdout",
     "output_type": "stream",
     "text": [
      "Collecting stanza\n",
      "  Using cached stanza-1.10.1-py3-none-any.whl.metadata (13 kB)\n",
      "Collecting emoji (from stanza)\n",
      "  Using cached emoji-2.14.1-py3-none-any.whl.metadata (5.7 kB)\n",
      "Requirement already satisfied: numpy in /Users/summa/miniconda3/lib/python3.11/site-packages (from stanza) (1.26.0)\n",
      "Requirement already satisfied: protobuf>=3.15.0 in /Users/summa/miniconda3/lib/python3.11/site-packages (from stanza) (4.24.4)\n",
      "Requirement already satisfied: requests in /Users/summa/miniconda3/lib/python3.11/site-packages (from stanza) (2.28.2)\n",
      "Requirement already satisfied: networkx in /Users/summa/miniconda3/lib/python3.11/site-packages (from stanza) (2.8.8)\n",
      "Requirement already satisfied: torch>=1.3.0 in /Users/summa/miniconda3/lib/python3.11/site-packages (from stanza) (2.1.2)\n",
      "Requirement already satisfied: tqdm in /Users/summa/miniconda3/lib/python3.11/site-packages (from stanza) (4.65.0)\n",
      "Requirement already satisfied: filelock in /Users/summa/miniconda3/lib/python3.11/site-packages (from torch>=1.3.0->stanza) (3.14.0)\n",
      "Requirement already satisfied: typing-extensions in /Users/summa/miniconda3/lib/python3.11/site-packages (from torch>=1.3.0->stanza) (4.10.0)\n",
      "Requirement already satisfied: sympy in /Users/summa/miniconda3/lib/python3.11/site-packages (from torch>=1.3.0->stanza) (1.12)\n",
      "Requirement already satisfied: jinja2 in /Users/summa/miniconda3/lib/python3.11/site-packages (from torch>=1.3.0->stanza) (3.1.2)\n",
      "Requirement already satisfied: fsspec in /Users/summa/miniconda3/lib/python3.11/site-packages (from torch>=1.3.0->stanza) (2024.3.1)\n",
      "Requirement already satisfied: MarkupSafe>=2.0 in /Users/summa/miniconda3/lib/python3.11/site-packages (from jinja2->torch>=1.3.0->stanza) (2.1.3)\n",
      "Requirement already satisfied: charset-normalizer<4,>=2 in /Users/summa/miniconda3/lib/python3.11/site-packages (from requests->stanza) (2.0.4)\n",
      "Requirement already satisfied: idna<4,>=2.5 in /Users/summa/miniconda3/lib/python3.11/site-packages (from requests->stanza) (3.4)\n",
      "Requirement already satisfied: urllib3<1.27,>=1.21.1 in /Users/summa/miniconda3/lib/python3.11/site-packages (from requests->stanza) (1.26.16)\n",
      "Requirement already satisfied: certifi>=2017.4.17 in /Users/summa/miniconda3/lib/python3.11/site-packages (from requests->stanza) (2024.2.2)\n",
      "Requirement already satisfied: mpmath>=0.19 in /Users/summa/miniconda3/lib/python3.11/site-packages (from sympy->torch>=1.3.0->stanza) (1.3.0)\n",
      "Using cached stanza-1.10.1-py3-none-any.whl (1.1 MB)\n",
      "Using cached emoji-2.14.1-py3-none-any.whl (590 kB)\n",
      "Installing collected packages: emoji, stanza\n",
      "\u001b[2K   \u001b[90m━━━━━━━━━━━━━━━━━━━━━━━━━━━━━━━━━━━━━━━━\u001b[0m \u001b[32m2/2\u001b[0m [stanza]2m1/2\u001b[0m [stanza]\n",
      "\u001b[1A\u001b[2KSuccessfully installed emoji-2.14.1 stanza-1.10.1\n",
      "\n",
      "\u001b[1m[\u001b[0m\u001b[34;49mnotice\u001b[0m\u001b[1;39;49m]\u001b[0m\u001b[39;49m A new release of pip is available: \u001b[0m\u001b[31;49m25.1.1\u001b[0m\u001b[39;49m -> \u001b[0m\u001b[32;49m25.2\u001b[0m\n",
      "\u001b[1m[\u001b[0m\u001b[34;49mnotice\u001b[0m\u001b[1;39;49m]\u001b[0m\u001b[39;49m To update, run: \u001b[0m\u001b[32;49mpip install --upgrade pip\u001b[0m\n"
     ]
    }
   ],
   "source": [
    "!pip3 install stanza"
   ]
  },
  {
   "cell_type": "code",
   "execution_count": null,
   "id": "a82ecd0e",
   "metadata": {},
   "outputs": [
    {
     "name": "stdout",
     "output_type": "stream",
     "text": [
      "Abriendo y procesando el archivo: ../data/deep/UD_Spanish-GSD/es_gsd-ud-train.conllu...\n"
     ]
    },
    {
     "ename": "AttributeError",
     "evalue": "'Sentence' object has no attribute 'print_tree'",
     "output_type": "error",
     "traceback": [
      "\u001b[0;31m---------------------------------------------------------------------------\u001b[0m",
      "\u001b[0;31mAttributeError\u001b[0m                            Traceback (most recent call last)",
      "Cell \u001b[0;32mIn[9], line 21\u001b[0m\n\u001b[1;32m     18\u001b[0m \u001b[38;5;28;01mexcept\u001b[39;00m \u001b[38;5;167;01mFileNotFoundError\u001b[39;00m:\n\u001b[1;32m     19\u001b[0m     \u001b[38;5;28mprint\u001b[39m(\u001b[38;5;124mf\u001b[39m\u001b[38;5;124m\"\u001b[39m\u001b[38;5;124mError: El archivo \u001b[39m\u001b[38;5;132;01m{\u001b[39;00mcorpus_file_path\u001b[38;5;132;01m}\u001b[39;00m\u001b[38;5;124m no se encontró.\u001b[39m\u001b[38;5;124m\"\u001b[39m)\n\u001b[0;32m---> 21\u001b[0m \u001b[38;5;28mprint\u001b[39m(\u001b[43mdoc\u001b[49m\u001b[38;5;241;43m.\u001b[39;49m\u001b[43msentences\u001b[49m\u001b[43m[\u001b[49m\u001b[38;5;241;43m0\u001b[39;49m\u001b[43m]\u001b[49m\u001b[38;5;241;43m.\u001b[39;49m\u001b[43mprint_tree\u001b[49m())\n",
      "\u001b[0;31mAttributeError\u001b[0m: 'Sentence' object has no attribute 'print_tree'"
     ]
    }
   ],
   "source": [
    "import stanza\n",
    "from stanza.utils.conll import CoNLL\n",
    "import pandas as pd\n",
    "import logging\n",
    "# Silenciar los logs informativos de Stanza\n",
    "logging.getLogger('stanza').setLevel(logging.ERROR)\n",
    "stanza.download('es')\n",
    "\n",
    "corpus_file_path = '../data/deep/UD_Spanish-GSD/es_gsd-ud-train.conllu' # <--- CAMBIA ESTO A LA RUTA DE TU ARCHIVO\n",
    "\n",
    "try:\n",
    "    # Abrir y leer el archivo CoNLL-U\n",
    "    # CoNLL.conll2doc() convierte el texto CoNLL-U a un objeto Document de Stanza\n",
    "    print(f\"Abriendo y procesando el archivo: {corpus_file_path}...\")\n",
    "    # Leer directamente el archivo CoNLL-U usando CoNLL.conll2doc\n",
    "    doc = CoNLL.conll2doc(corpus_file_path)\n",
    "\n",
    "except FileNotFoundError:\n",
    "    print(f\"Error: El archivo {corpus_file_path} no se encontró.\")\n",
    "\n"
   ]
  },
  {
   "cell_type": "code",
   "execution_count": null,
   "id": "82430326",
   "metadata": {},
   "outputs": [
    {
     "name": "stdout",
     "output_type": "stream",
     "text": [
      "Words 'que' and 'interesadas' are at the same dependency level (2).\n"
     ]
    }
   ],
   "source": [
    "id2word = {w.id: w for w in doc.sentences[0].words}\n",
    "def get_depth(word):\n",
    "        # Root has head = 0 → depth 0\n",
    "        if word.head == 0:\n",
    "            return 0\n",
    "        # Otherwise, 1 + depth of its head\n",
    "        return 1 + get_depth(id2word[word.head])\n",
    "    \n",
    "w1 = id2word[13]      # word with id 5\n",
    "w2 = id2word[8]      # word with id 8\n",
    "    \n",
    "    #    or by text (first match):\n",
    "    # w_text = {w.text: w for w in sent.words}\n",
    "    # w1, w2 = w_text['word1'], w_text['word2']\n",
    "    \n",
    "    # 5. Compute and compare\n",
    "depth1 = get_depth(w1)\n",
    "depth2 = get_depth(w2)\n",
    "if depth1 == depth2:\n",
    "    print(f\"Words '{w1.text}' and '{w2.text}' are at the same dependency level ({depth1}).\")\n",
    "else:\n",
    "    print(f\"'{w1.text}' (level {depth1}) vs '{w2.text}' (level {depth2}) – not the same level.\")"
   ]
  },
  {
   "cell_type": "code",
   "execution_count": 28,
   "id": "8633b617",
   "metadata": {},
   "outputs": [
    {
     "data": {
      "text/plain": [
       "{\n",
       "  \"id\": 4,\n",
       "  \"text\": \"pediría\",\n",
       "  \"lemma\": \"pedir\",\n",
       "  \"upos\": \"VERB\",\n",
       "  \"feats\": \"Mood=Cnd|Number=Sing|Person=3|VerbForm=Fin\",\n",
       "  \"head\": 0,\n",
       "  \"deprel\": \"root\",\n",
       "  \"deps\": \"0:root\"\n",
       "}"
      ]
     },
     "execution_count": 28,
     "metadata": {},
     "output_type": "execute_result"
    }
   ],
   "source": [
    "doc.sentences[0].words[3]"
   ]
  },
  {
   "cell_type": "code",
   "execution_count": 30,
   "id": "09df42b5",
   "metadata": {},
   "outputs": [
    {
     "data": {
      "text/plain": [
       "{\n",
       "  \"id\": 1,\n",
       "  \"text\": \"Además\",\n",
       "  \"lemma\": \"además\",\n",
       "  \"upos\": \"ADV\",\n",
       "  \"head\": 4,\n",
       "  \"deprel\": \"advmod\",\n",
       "  \"deps\": \"4:advmod\"\n",
       "}"
      ]
     },
     "execution_count": 30,
     "metadata": {},
     "output_type": "execute_result"
    }
   ],
   "source": [
    "doc.sentences[0].words[0]"
   ]
  },
  {
   "cell_type": "code",
   "execution_count": null,
   "id": "bd27b83c",
   "metadata": {},
   "outputs": [],
   "source": []
  }
 ],
 "metadata": {
  "kernelspec": {
   "display_name": "base",
   "language": "python",
   "name": "python3"
  },
  "language_info": {
   "codemirror_mode": {
    "name": "ipython",
    "version": 3
   },
   "file_extension": ".py",
   "mimetype": "text/x-python",
   "name": "python",
   "nbconvert_exporter": "python",
   "pygments_lexer": "ipython3",
   "version": "3.11.4"
  }
 },
 "nbformat": 4,
 "nbformat_minor": 5
}
