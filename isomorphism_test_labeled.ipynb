{
 "cells": [
  {
   "cell_type": "markdown",
   "metadata": {},
   "source": [
    "# The Weisfeiler-Lehman Isomorphism Test\n",
    "\n",
    "The Weisfeiler-Lehman Isomorphism Test, also called WL-Test, is a classical result from the graph theory. It is an heuristic to find out if two graphs are isomorphic. The problem of the graph isomorphism does not have a definitive solution in polinomial time yet, making some people say it may be NP-Complete. The WL-Test offers one alternative that allows us to estimate it.\n",
    "\n",
    "However, since this is an heuristic, the test is not perfect. Therefore, it fail in some simple cases and because of that new versions of this test were proposed.\n",
    "\n",
    "In this notebook we will explore a little about the theory of the test and implement it in its classical form and also some newer versions."
   ]
  },
  {
   "cell_type": "code",
   "execution_count": 1,
   "metadata": {},
   "outputs": [],
   "source": [
    "import networkx as nx\n",
    "def load_graph(file):\n",
    "    G = nx.read_graphml(file).to_undirected()\n",
    "    G.graph['phrase'] = G.graph.get('phrase', 'No phrase found')\n",
    "    return G"
   ]
  },
  {
   "cell_type": "markdown",
   "metadata": {},
   "source": [
    "# New implementation (gpt)"
   ]
  },
  {
   "cell_type": "code",
   "execution_count": 45,
   "metadata": {},
   "outputs": [],
   "source": [
    "from __future__ import annotations\n",
    "from pathlib import Path\n",
    "from collections import defaultdict\n",
    "from collections import Counter\n",
    "import copy\n",
    "\n",
    "# ---------- WL over trees ----------\n",
    "def wl_tree_signature(G: nx.Graph) -> str:\n",
    "    \"\"\"\n",
    "    1-WL color refinement on an (unlabeled) tree G.\n",
    "    Returns a canonical signature string usable as a dict key.\n",
    "    \"\"\"\n",
    "    # Relabel to 0..n-1 for array-friendly processing\n",
    "    G = nx.relabel.convert_node_labels_to_integers(G, ordering=\"sorted\")  # keeps attrs by default\n",
    "    n = G.number_of_nodes()\n",
    "\n",
    "    # adjacency as list of lists for speed\n",
    "    adj = [list(G.neighbors(v)) for v in range(n)]  # neighbors() yields iterator.  [oai_citation:6‡networkx.org](https://networkx.org/documentation/stable/reference/classes/generated/networkx.Graph.neighbors.html?utm_source=chatgpt.com)\n",
    "    labels = nx.get_node_attributes(G, 'label')  # node labels\n",
    "    colors = [labels[u] for u in G.nodes()]  # node labels as colors\n",
    "    tmp = [None] * n\n",
    "    i = 0\n",
    "    signature = \"\"\n",
    "    while True:      \n",
    "        \n",
    "        for v in range(n):\n",
    "            neigh_cols = sorted(colors[u] for u in adj[v])\n",
    "            tmp[v] = str(colors[v]) +\"_\"+ str(tuple(neigh_cols))\n",
    "        # compress tuples → small ints\n",
    "        mapping = {}\n",
    "        next_c = 0\n",
    "        new_colors = [0] * n\n",
    "        for v in range(n):\n",
    "            key = tmp[v]\n",
    "            #print(f\"key is {key}\")\n",
    "            if key not in mapping:\n",
    "                mapping[key] = next_c\n",
    "                next_c += 1\n",
    "            new_colors[v] = mapping[key]\n",
    "        if new_colors == colors:\n",
    "            break\n",
    "        colors = new_colors\n",
    "    hist = defaultdict(int)\n",
    "    \n",
    "    for c in tmp:\n",
    "        hist[c] += 1\n",
    "    signature += \"|\".join(f\"{c}:{hist[c]}\" for c in sorted(hist))\n",
    "    return signature\n"
   ]
  },
  {
   "cell_type": "code",
   "execution_count": 46,
   "metadata": {},
   "outputs": [],
   "source": [
    "from pathlib import Path\n",
    "GRAPH_DIR = \"../data/graphs_labeled_filtered/UD_Spanish-GSD\"\n",
    "# --------- CONFIG ---------\n",
    "FOLDER = Path(GRAPH_DIR)\n",
    "OUT_CSV = Path(\"isomorphic_groups_labeled_filtered.csv\")"
   ]
  },
  {
   "cell_type": "code",
   "execution_count": 47,
   "metadata": {},
   "outputs": [
    {
     "name": "stderr",
     "output_type": "stream",
     "text": [
      "10842it [00:06, 1743.61it/s]"
     ]
    },
    {
     "name": "stdout",
     "output_type": "stream",
     "text": [
      "Done. Wrote 10242 isomorphism classes to isomorphic_groups_labeled_filtered.csv\n"
     ]
    },
    {
     "name": "stderr",
     "output_type": "stream",
     "text": [
      "\n"
     ]
    }
   ],
   "source": [
    "from tqdm import tqdm  # progress bar for long operations\n",
    "\n",
    "groups = defaultdict(list)\n",
    "\n",
    "for path in tqdm(FOLDER.rglob(\"*.graphml\")):\n",
    "    try:\n",
    "         G = load_graph(path)\n",
    "    except Exception as e:\n",
    "        print(f\"[WARN] Could not read {path}: {e}\")\n",
    "        continue\n",
    "\n",
    "    sig = wl_tree_signature(G)\n",
    "\n",
    "    groups[sig].append(str(path))\n",
    "\n",
    "# --------- Write result ---------\n",
    "with OUT_CSV.open(\"w\", encoding=\"utf-8\") as f:\n",
    "    f.write(\"signature;count;files\\n\")\n",
    "    for sig, files in groups.items():\n",
    "        f.write(f\"{sig};{len(files)};\\\"{'|'.join(files)}\\\"\\n\")\n",
    "\n",
    "print(f\"Done. Wrote {len(groups)} isomorphism classes to {OUT_CSV}\")"
   ]
  },
  {
   "cell_type": "code",
   "execution_count": 48,
   "metadata": {},
   "outputs": [
    {
     "data": {
      "text/html": [
       "<div>\n",
       "<style scoped>\n",
       "    .dataframe tbody tr th:only-of-type {\n",
       "        vertical-align: middle;\n",
       "    }\n",
       "\n",
       "    .dataframe tbody tr th {\n",
       "        vertical-align: top;\n",
       "    }\n",
       "\n",
       "    .dataframe thead th {\n",
       "        text-align: right;\n",
       "    }\n",
       "</style>\n",
       "<table border=\"1\" class=\"dataframe\">\n",
       "  <thead>\n",
       "    <tr style=\"text-align: right;\">\n",
       "      <th></th>\n",
       "      <th>signature</th>\n",
       "      <th>count</th>\n",
       "      <th>files</th>\n",
       "    </tr>\n",
       "  </thead>\n",
       "  <tbody>\n",
       "    <tr>\n",
       "      <th>0</th>\n",
       "      <td>0_(3,):1|1_(3,):1|2_(3,):1|3_(0, 1, 2, 6, 8):1...</td>\n",
       "      <td>2</td>\n",
       "      <td>../data/graphs_labeled_filtered/UD_Spanish-GSD...</td>\n",
       "    </tr>\n",
       "    <tr>\n",
       "      <th>1</th>\n",
       "      <td>0_(11,):1|10_(11,):1|11_(0, 10, 13):1|12_(13,)...</td>\n",
       "      <td>1</td>\n",
       "      <td>../data/graphs_labeled_filtered/UD_Spanish-GSD...</td>\n",
       "    </tr>\n",
       "    <tr>\n",
       "      <th>2</th>\n",
       "      <td>0_(11,):1|10_(12,):1|11_(0, 1, 32, 36):1|12_(9...</td>\n",
       "      <td>1</td>\n",
       "      <td>../data/graphs_labeled_filtered/UD_Spanish-GSD...</td>\n",
       "    </tr>\n",
       "    <tr>\n",
       "      <th>3</th>\n",
       "      <td>0_(21,):1|10_(21,):1|11_(13,):1|12_(13,):1|13_...</td>\n",
       "      <td>1</td>\n",
       "      <td>../data/graphs_labeled_filtered/UD_Spanish-GSD...</td>\n",
       "    </tr>\n",
       "    <tr>\n",
       "      <th>4</th>\n",
       "      <td>0_(4,):1|10_(2, 3, 4, 9):1|11_(2,):1|1_(2,):1|...</td>\n",
       "      <td>1</td>\n",
       "      <td>../data/graphs_labeled_filtered/UD_Spanish-GSD...</td>\n",
       "    </tr>\n",
       "    <tr>\n",
       "      <th>...</th>\n",
       "      <td>...</td>\n",
       "      <td>...</td>\n",
       "      <td>...</td>\n",
       "    </tr>\n",
       "    <tr>\n",
       "      <th>10237</th>\n",
       "      <td>0_(6,):1|10_(9, 11, 14):1|11_(10,):1|12_(14,):...</td>\n",
       "      <td>1</td>\n",
       "      <td>../data/graphs_labeled_filtered/UD_Spanish-GSD...</td>\n",
       "    </tr>\n",
       "    <tr>\n",
       "      <th>10238</th>\n",
       "      <td>0_(22,):1|10_(9,):1|11_(22,):1|12_(3, 6, 14, 3...</td>\n",
       "      <td>1</td>\n",
       "      <td>../data/graphs_labeled_filtered/UD_Spanish-GSD...</td>\n",
       "    </tr>\n",
       "    <tr>\n",
       "      <th>10239</th>\n",
       "      <td>0_(5,):1|10_(2, 7, 8):1|11_(2,):1|1_(2,):1|2_(...</td>\n",
       "      <td>1</td>\n",
       "      <td>../data/graphs_labeled_filtered/UD_Spanish-GSD...</td>\n",
       "    </tr>\n",
       "    <tr>\n",
       "      <th>10240</th>\n",
       "      <td>0_(9,):1|10_(11,):1|11_(9, 10, 13):1|12_(13,):...</td>\n",
       "      <td>1</td>\n",
       "      <td>../data/graphs_labeled_filtered/UD_Spanish-GSD...</td>\n",
       "    </tr>\n",
       "    <tr>\n",
       "      <th>10241</th>\n",
       "      <td>0_(19,):1|10_(12,):1|11_(19,):1|12_(3, 4, 6, 9...</td>\n",
       "      <td>1</td>\n",
       "      <td>../data/graphs_labeled_filtered/UD_Spanish-GSD...</td>\n",
       "    </tr>\n",
       "  </tbody>\n",
       "</table>\n",
       "<p>10242 rows × 3 columns</p>\n",
       "</div>"
      ],
      "text/plain": [
       "                                               signature  count  \\\n",
       "0      0_(3,):1|1_(3,):1|2_(3,):1|3_(0, 1, 2, 6, 8):1...      2   \n",
       "1      0_(11,):1|10_(11,):1|11_(0, 10, 13):1|12_(13,)...      1   \n",
       "2      0_(11,):1|10_(12,):1|11_(0, 1, 32, 36):1|12_(9...      1   \n",
       "3      0_(21,):1|10_(21,):1|11_(13,):1|12_(13,):1|13_...      1   \n",
       "4      0_(4,):1|10_(2, 3, 4, 9):1|11_(2,):1|1_(2,):1|...      1   \n",
       "...                                                  ...    ...   \n",
       "10237  0_(6,):1|10_(9, 11, 14):1|11_(10,):1|12_(14,):...      1   \n",
       "10238  0_(22,):1|10_(9,):1|11_(22,):1|12_(3, 6, 14, 3...      1   \n",
       "10239  0_(5,):1|10_(2, 7, 8):1|11_(2,):1|1_(2,):1|2_(...      1   \n",
       "10240  0_(9,):1|10_(11,):1|11_(9, 10, 13):1|12_(13,):...      1   \n",
       "10241  0_(19,):1|10_(12,):1|11_(19,):1|12_(3, 4, 6, 9...      1   \n",
       "\n",
       "                                                   files  \n",
       "0      ../data/graphs_labeled_filtered/UD_Spanish-GSD...  \n",
       "1      ../data/graphs_labeled_filtered/UD_Spanish-GSD...  \n",
       "2      ../data/graphs_labeled_filtered/UD_Spanish-GSD...  \n",
       "3      ../data/graphs_labeled_filtered/UD_Spanish-GSD...  \n",
       "4      ../data/graphs_labeled_filtered/UD_Spanish-GSD...  \n",
       "...                                                  ...  \n",
       "10237  ../data/graphs_labeled_filtered/UD_Spanish-GSD...  \n",
       "10238  ../data/graphs_labeled_filtered/UD_Spanish-GSD...  \n",
       "10239  ../data/graphs_labeled_filtered/UD_Spanish-GSD...  \n",
       "10240  ../data/graphs_labeled_filtered/UD_Spanish-GSD...  \n",
       "10241  ../data/graphs_labeled_filtered/UD_Spanish-GSD...  \n",
       "\n",
       "[10242 rows x 3 columns]"
      ]
     },
     "execution_count": 48,
     "metadata": {},
     "output_type": "execute_result"
    }
   ],
   "source": [
    "import pandas as pd\n",
    "\n",
    "df = pd.read_csv(\"isomorphic_groups_labeled_filtered.csv\", sep=\";\")\n",
    "df\n"
   ]
  },
  {
   "cell_type": "code",
   "execution_count": 49,
   "metadata": {},
   "outputs": [],
   "source": [
    "df[\"largo_signature\"] = df[\"signature\"].apply(lambda x: len(x))"
   ]
  },
  {
   "cell_type": "code",
   "execution_count": 52,
   "metadata": {},
   "outputs": [
    {
     "data": {
      "text/plain": [
       "'0_(30,):1|10_(8, 8, 12):1|11_(12,):1|12_(2, 7, 10, 11):1|13_(18,):1|14_(16,):1|15_(16,):1|16_(14, 15, 18):1|17_(18,):1|18_(2, 13, 16, 17):1|19_(24,):1|1_(2,):1|20_(22,):1|21_(22,):1|22_(20, 21, 24):1|23_(24,):1|24_(2, 19, 22, 23):1|25_(31,):1|26_(28,):1|27_(28,):1|28_(26, 27, 31):1|29_(31,):1|2_(1, 6, 12, 18, 24, 30, 31, 39, 47, 54, 55):1|30_(0, 2, 9, 9, 41):1|31_(2, 25, 28, 29, 34):1|32_(34,):1|33_(34,):1|34_(31, 32, 33):1|35_(39,):1|36_(38,):1|37_(38,):1|38_(36, 37, 39):1|39_(2, 35, 38, 42):1|3_(6,):1|40_(42,):2|41_(30,):1|42_(39, 40, 40):1|43_(47,):1|44_(46,):1|45_(46,):1|46_(44, 45, 47):1|47_(2, 43, 46, 53):1|48_(53,):1|49_(52, 53):1|4_(6,):1|50_(52,):1|51_(55,):1|52_(49, 50):1|53_(47, 48, 49):1|54_(2,):1|55_(2, 51, 57):1|56_(57,):1|57_(55, 56):1|5_(6,):2|6_(2, 3, 4, 5, 5):1|7_(12,):1|8_(10,):2|9_(30,):2'"
      ]
     },
     "execution_count": 52,
     "metadata": {},
     "output_type": "execute_result"
    }
   ],
   "source": [
    "df[df[\"count\"]>5].sort_values([\"largo_signature\",\"count\"], ascending=False)[\"signature\"].values[0]"
   ]
  },
  {
   "cell_type": "code",
   "execution_count": 53,
   "metadata": {},
   "outputs": [
    {
     "data": {
      "text/plain": [
       "['../data/graphs_labeled_filtered/UD_Spanish-GSD/es_gsd-ud-train_7962.graphml',\n",
       " '../data/graphs_labeled_filtered/UD_Spanish-GSD/es_gsd-ud-train_11394.graphml',\n",
       " '../data/graphs_labeled_filtered/UD_Spanish-GSD/es_gsd-ud-train_1627.graphml',\n",
       " '../data/graphs_labeled_filtered/UD_Spanish-GSD/es_gsd-ud-train_10982.graphml',\n",
       " '../data/graphs_labeled_filtered/UD_Spanish-GSD/es_gsd-ud-train_5719.graphml',\n",
       " '../data/graphs_labeled_filtered/UD_Spanish-GSD/es_gsd-ud-train_12544.graphml',\n",
       " '../data/graphs_labeled_filtered/UD_Spanish-GSD/es_gsd-ud-train_8323.graphml',\n",
       " '../data/graphs_labeled_filtered/UD_Spanish-GSD/es_gsd-ud-train_3129.graphml',\n",
       " '../data/graphs_labeled_filtered/UD_Spanish-GSD/es_gsd-ud-train_6484.graphml']"
      ]
     },
     "execution_count": 53,
     "metadata": {},
     "output_type": "execute_result"
    }
   ],
   "source": [
    "df[df[\"signature\"] == '0_(30,):1|10_(8, 8, 12):1|11_(12,):1|12_(2, 7, 10, 11):1|13_(18,):1|14_(16,):1|15_(16,):1|16_(14, 15, 18):1|17_(18,):1|18_(2, 13, 16, 17):1|19_(24,):1|1_(2,):1|20_(22,):1|21_(22,):1|22_(20, 21, 24):1|23_(24,):1|24_(2, 19, 22, 23):1|25_(31,):1|26_(28,):1|27_(28,):1|28_(26, 27, 31):1|29_(31,):1|2_(1, 6, 12, 18, 24, 30, 31, 39, 47, 54, 55):1|30_(0, 2, 9, 9, 41):1|31_(2, 25, 28, 29, 34):1|32_(34,):1|33_(34,):1|34_(31, 32, 33):1|35_(39,):1|36_(38,):1|37_(38,):1|38_(36, 37, 39):1|39_(2, 35, 38, 42):1|3_(6,):1|40_(42,):2|41_(30,):1|42_(39, 40, 40):1|43_(47,):1|44_(46,):1|45_(46,):1|46_(44, 45, 47):1|47_(2, 43, 46, 53):1|48_(53,):1|49_(52, 53):1|4_(6,):1|50_(52,):1|51_(55,):1|52_(49, 50):1|53_(47, 48, 49):1|54_(2,):1|55_(2, 51, 57):1|56_(57,):1|57_(55, 56):1|5_(6,):2|6_(2, 3, 4, 5, 5):1|7_(12,):1|8_(10,):2|9_(30,):2'\n",
    "][\"files\"].values[0].split(\"|\")"
   ]
  },
  {
   "cell_type": "code",
   "execution_count": null,
   "metadata": {},
   "outputs": [],
   "source": []
  }
 ],
 "metadata": {
  "colab": {
   "collapsed_sections": [],
   "name": "Weisfeiler-Lehman isomorphism test.ipynb",
   "provenance": []
  },
  "kernelspec": {
   "display_name": "base",
   "language": "python",
   "name": "python3"
  },
  "language_info": {
   "codemirror_mode": {
    "name": "ipython",
    "version": 3
   },
   "file_extension": ".py",
   "mimetype": "text/x-python",
   "name": "python",
   "nbconvert_exporter": "python",
   "pygments_lexer": "ipython3",
   "version": "3.11.4"
  }
 },
 "nbformat": 4,
 "nbformat_minor": 4
}
