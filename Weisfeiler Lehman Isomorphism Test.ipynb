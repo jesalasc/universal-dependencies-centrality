{
 "cells": [
  {
   "cell_type": "markdown",
   "metadata": {},
   "source": [
    "# The Weisfeiler-Lehman Isomorphism Test\n",
    "\n",
    "The Weisfeiler-Lehman Isomorphism Test, also called WL-Test, is a classical result from the graph theory. It is an heuristic to find out if two graphs are isomorphic. The problem of the graph isomorphism does not have a definitive solution in polinomial time yet, making some people say it may be NP-Complete. The WL-Test offers one alternative that allows us to estimate it.\n",
    "\n",
    "However, since this is an heuristic, the test is not perfect. Therefore, it fail in some simple cases and because of that new versions of this test were proposed.\n",
    "\n",
    "In this notebook we will explore a little about the theory of the test and implement it in its classical form and also some newer versions."
   ]
  },
  {
   "cell_type": "code",
   "execution_count": 3,
   "metadata": {
    "id": "Gvaav4nXDvdl"
   },
   "outputs": [],
   "source": [
    "import copy\n",
    "import pprint\n",
    "import itertools\n",
    "import hashlib\n",
    "import networkx as nx\n",
    "\n",
    "from collections import Counter"
   ]
  },
  {
   "cell_type": "code",
   "execution_count": 4,
   "metadata": {},
   "outputs": [],
   "source": [
    "def base_WL(G_, k, verbose, n_set, initial_colors_func, find_neighbors_func):    \n",
    "    if verbose:\n",
    "        print('-----------------------------------')\n",
    "        print('Starting the execution for the graph')\n",
    "    G, n = n_set(G_)\n",
    "    colors = initial_colors_func(n)\n",
    "\n",
    "    old_colors = copy.deepcopy(colors)\n",
    "    \n",
    "    if verbose:\n",
    "        print(f'Initial Color hashes: \\n {colors} \\n')\n",
    "\n",
    "    for i in range(len(n)):\n",
    "        for node in n:\n",
    "            neigh_colors = \"\".join([colors[i][0] for i in find_neighbors_func(G, n, node)])\n",
    "            \n",
    "            colors[node].extend([neigh_colors])\n",
    "            colors[node].sort()\n",
    "\n",
    "        # Update with the hash\n",
    "        if verbose:\n",
    "            print(f'Colors before hashes at iteration {i}: {colors} \\n')\n",
    "        colors = {i: [hashlib.sha224(\"\".join(colors[i]).encode('utf-8')).hexdigest()] for i in colors}\n",
    "                \n",
    "        if verbose:\n",
    "            print(f'Colors hashes at iteration {i}: \\n {colors} \\n')\n",
    "            print(f'Histogram: \\n {sorted(Counter([item for sublist in colors.values() for item in sublist]).items())} \\n')\n",
    "        \n",
    "        if list(Counter([item for sublist in colors.values() for item in sublist]).values()) == list(Counter([item for sublist in old_colors.values() for item in sublist]).values()) and i != 0:\n",
    "            if verbose:\n",
    "                print(f'Converged at iteration {i}!')\n",
    "            break\n",
    "        \n",
    "        old_colors = copy.deepcopy(colors)\n",
    "\n",
    "    canonical_form = sorted(Counter([item for sublist in colors.values() for item in sublist]).items())\n",
    "    if verbose:\n",
    "        print(f'Canonical Form Found: \\n {canonical_form} \\n')\n",
    "\n",
    "    return canonical_form"
   ]
  },
  {
   "cell_type": "code",
   "execution_count": 5,
   "metadata": {
    "id": "xSj97eqCD2qA"
   },
   "outputs": [],
   "source": [
    "def WL(G, k=2, verbose=False):\n",
    "    def n_set(G):\n",
    "        G = nx.convert_node_labels_to_integers(G)\n",
    "        return G, list(G.nodes())\n",
    "    \n",
    "    def set_initial_colors(n):\n",
    "        return {i: [hashlib.sha224(\"1\".encode('utf-8')).hexdigest()] for i in n}\n",
    "    \n",
    "    def find_neighbors(G, n, node):\n",
    "        return G.neighbors(node)\n",
    "    \n",
    "    return base_WL(G, k, verbose, n_set, set_initial_colors, find_neighbors)"
   ]
  },
  {
   "cell_type": "code",
   "execution_count": 6,
   "metadata": {
    "id": "9VEc1kyapDao"
   },
   "outputs": [],
   "source": [
    "def kWL(G, k, verbose=False):\n",
    "    def n_set(G):\n",
    "        G = nx.convert_node_labels_to_integers(G)\n",
    "        V = list(G.nodes())\n",
    "        V_k = [comb for comb in itertools.combinations(V, k)]\n",
    "        return G, V_k\n",
    "\n",
    "    def set_initial_colors(n):\n",
    "        return {i: [hashlib.sha224(str(i).encode('utf-8')).hexdigest()] for i in n}\n",
    "\n",
    "    def find_neighbors(G, V_k, node):\n",
    "        return [n for n in V_k if len(set(n) - set(V_k[V_k.index(node)])) == 1]\n",
    "\n",
    "    return base_WL(G, k, verbose, n_set, set_initial_colors, find_neighbors)"
   ]
  },
  {
   "cell_type": "code",
   "execution_count": 7,
   "metadata": {
    "id": "UytqtTezslYV"
   },
   "outputs": [],
   "source": [
    "def fkWL(G, k, verbose=False):\n",
    "    def n_set(G):\n",
    "        G = nx.convert_node_labels_to_integers(G)\n",
    "        V = list(G.nodes())\n",
    "        V_k = [comb for comb in itertools.product(V, repeat=k)]\n",
    "        return G, V_k\n",
    "\n",
    "    def set_initial_colors(n):\n",
    "        return {i: [hashlib.sha224(str(i).encode('utf-8')).hexdigest()] for i in n}\n",
    "\n",
    "    def find_neighbors(G, V_k, node):\n",
    "        V = list(G.nodes())\n",
    "        vals = []\n",
    "        for i in range(k):\n",
    "            w = []\n",
    "            nodes_to_add = [u for u in V if u != V_k[V_k.index(node)][i]]\n",
    "            for u in nodes_to_add:\n",
    "                aux = list(V_k[V_k.index(node)])\n",
    "                aux[i] = u\n",
    "                w.append(tuple(aux))\n",
    "            vals.extend(w)\n",
    "        return vals\n",
    "\n",
    "    return base_WL(G, k, verbose, n_set, set_initial_colors, find_neighbors)"
   ]
  },
  {
   "cell_type": "code",
   "execution_count": 8,
   "metadata": {
    "id": "-pF5hq6i_y_J"
   },
   "outputs": [],
   "source": [
    "def compare_graphs(G1, G2, method='WL', k=2, verbose=False):\n",
    "    methods = {\n",
    "        'WL': WL,\n",
    "        'kWL': kWL,\n",
    "        'fkWL': fkWL\n",
    "    }\n",
    "\n",
    "    # If two graphs have different numbers of nodes they cannot be isomorphic\n",
    "    if len(G1.nodes()) != len(G2.nodes()):\n",
    "        if verbose:\n",
    "            print('Non-Isomorphic by different number of nodes!')\n",
    "        return False\n",
    "    \n",
    "    c1 = methods[method](G1, k, verbose)\n",
    "    c2 = methods[method](G2, k, verbose)\n",
    "\n",
    "    return c1 == c2"
   ]
  },
  {
   "cell_type": "markdown",
   "metadata": {},
   "source": [
    "## Testing the Implementation"
   ]
  },
  {
   "cell_type": "code",
   "execution_count": 9,
   "metadata": {},
   "outputs": [],
   "source": [
    "def load_graph(file):\n",
    "    G = nx.read_graphml(file)\n",
    "    G.graph['phrase'] = G.graph.get('phrase', 'No phrase found')\n",
    "    return G, G.to_undirected()"
   ]
  },
  {
   "cell_type": "markdown",
   "metadata": {},
   "source": [
    "# Separar grafos del mismo tamaño"
   ]
  },
  {
   "cell_type": "code",
   "execution_count": 10,
   "metadata": {},
   "outputs": [
    {
     "data": {
      "text/html": [
       "<div>\n",
       "<style scoped>\n",
       "    .dataframe tbody tr th:only-of-type {\n",
       "        vertical-align: middle;\n",
       "    }\n",
       "\n",
       "    .dataframe tbody tr th {\n",
       "        vertical-align: top;\n",
       "    }\n",
       "\n",
       "    .dataframe thead th {\n",
       "        text-align: right;\n",
       "    }\n",
       "</style>\n",
       "<table border=\"1\" class=\"dataframe\">\n",
       "  <thead>\n",
       "    <tr style=\"text-align: right;\">\n",
       "      <th></th>\n",
       "      <th>size</th>\n",
       "      <th>phrase</th>\n",
       "    </tr>\n",
       "  </thead>\n",
       "  <tbody>\n",
       "    <tr>\n",
       "      <th>es_gsd-ud-train_7825.graphml</th>\n",
       "      <td>9</td>\n",
       "      <td>Nasija es una película del año 2006.</td>\n",
       "    </tr>\n",
       "    <tr>\n",
       "      <th>es_gsd-ud-train_12948.graphml</th>\n",
       "      <td>19</td>\n",
       "      <td>Se alimenta de insectos, que busca entre las h...</td>\n",
       "    </tr>\n",
       "    <tr>\n",
       "      <th>es_gsd-ud-train_9745.graphml</th>\n",
       "      <td>24</td>\n",
       "      <td>Aunque los tres distritos de las Azores y el M...</td>\n",
       "    </tr>\n",
       "    <tr>\n",
       "      <th>es_gsd-ud-train_3290.graphml</th>\n",
       "      <td>37</td>\n",
       "      <td>A cambio de su capital y el riesgo, exigía nad...</td>\n",
       "    </tr>\n",
       "    <tr>\n",
       "      <th>es_gsd-ud-train_1588.graphml</th>\n",
       "      <td>50</td>\n",
       "      <td>En el pasado se produjo un hundimiento del ter...</td>\n",
       "    </tr>\n",
       "    <tr>\n",
       "      <th>...</th>\n",
       "      <td>...</td>\n",
       "      <td>...</td>\n",
       "    </tr>\n",
       "    <tr>\n",
       "      <th>es_gsd-ud-train_7590.graphml</th>\n",
       "      <td>34</td>\n",
       "      <td>¿Sólo coincidencia, que tuviese que pasar just...</td>\n",
       "    </tr>\n",
       "    <tr>\n",
       "      <th>es_gsd-ud-train_11797.graphml</th>\n",
       "      <td>29</td>\n",
       "      <td>Aunque el mejor conocido es el de Tenayuca, a ...</td>\n",
       "    </tr>\n",
       "    <tr>\n",
       "      <th>es_gsd-ud-train_8663.graphml</th>\n",
       "      <td>12</td>\n",
       "      <td>Todas las estaciones se encuentran dentro de F...</td>\n",
       "    </tr>\n",
       "    <tr>\n",
       "      <th>es_gsd-ud-train_1945.graphml</th>\n",
       "      <td>15</td>\n",
       "      <td>El se le retiraba el cargo de jefe del Estado ...</td>\n",
       "    </tr>\n",
       "    <tr>\n",
       "      <th>es_gsd-ud-train_6903.graphml</th>\n",
       "      <td>26</td>\n",
       "      <td>En una noche trágica, Sonia regresó a su casa ...</td>\n",
       "    </tr>\n",
       "  </tbody>\n",
       "</table>\n",
       "<p>14187 rows × 2 columns</p>\n",
       "</div>"
      ],
      "text/plain": [
       "                               size  \\\n",
       "es_gsd-ud-train_7825.graphml      9   \n",
       "es_gsd-ud-train_12948.graphml    19   \n",
       "es_gsd-ud-train_9745.graphml     24   \n",
       "es_gsd-ud-train_3290.graphml     37   \n",
       "es_gsd-ud-train_1588.graphml     50   \n",
       "...                             ...   \n",
       "es_gsd-ud-train_7590.graphml     34   \n",
       "es_gsd-ud-train_11797.graphml    29   \n",
       "es_gsd-ud-train_8663.graphml     12   \n",
       "es_gsd-ud-train_1945.graphml     15   \n",
       "es_gsd-ud-train_6903.graphml     26   \n",
       "\n",
       "                                                                          phrase  \n",
       "es_gsd-ud-train_7825.graphml                Nasija es una película del año 2006.  \n",
       "es_gsd-ud-train_12948.graphml  Se alimenta de insectos, que busca entre las h...  \n",
       "es_gsd-ud-train_9745.graphml   Aunque los tres distritos de las Azores y el M...  \n",
       "es_gsd-ud-train_3290.graphml   A cambio de su capital y el riesgo, exigía nad...  \n",
       "es_gsd-ud-train_1588.graphml   En el pasado se produjo un hundimiento del ter...  \n",
       "...                                                                          ...  \n",
       "es_gsd-ud-train_7590.graphml   ¿Sólo coincidencia, que tuviese que pasar just...  \n",
       "es_gsd-ud-train_11797.graphml  Aunque el mejor conocido es el de Tenayuca, a ...  \n",
       "es_gsd-ud-train_8663.graphml   Todas las estaciones se encuentran dentro de F...  \n",
       "es_gsd-ud-train_1945.graphml   El se le retiraba el cargo de jefe del Estado ...  \n",
       "es_gsd-ud-train_6903.graphml   En una noche trágica, Sonia regresó a su casa ...  \n",
       "\n",
       "[14187 rows x 2 columns]"
      ]
     },
     "execution_count": 10,
     "metadata": {},
     "output_type": "execute_result"
    }
   ],
   "source": [
    "import os\n",
    "import random\n",
    "import pandas as pd\n",
    "\n",
    "GRAPH_DIR = \"./UD_Spanish-GSD/\"  # Set your desired directory path here\n",
    "graph_files = [f for f in os.listdir(GRAPH_DIR) if f.endswith(\".graphml\")]\n",
    "\n",
    "df = {}\n",
    "\n",
    "for file in graph_files:\n",
    "    G, G_undirected = load_graph(os.path.join(GRAPH_DIR, file))\n",
    "    \n",
    "    df[file] = {\"size\": G.number_of_nodes(),\n",
    "                \"phrase\": G.graph['phrase']}\n",
    "\n",
    "df = pd.DataFrame.from_dict(df, orient='index')\n",
    "df\n"
   ]
  },
  {
   "cell_type": "code",
   "execution_count": 11,
   "metadata": {},
   "outputs": [],
   "source": [
    "df.to_csv(\"sizes_data.csv\")"
   ]
  },
  {
   "cell_type": "markdown",
   "metadata": {},
   "source": [
    "# Test de isomorfismo"
   ]
  },
  {
   "cell_type": "code",
   "execution_count": 12,
   "metadata": {},
   "outputs": [
    {
     "data": {
      "text/plain": [
       "<Axes: title={'center': 'Number of Graphs by Size'}, xlabel='size'>"
      ]
     },
     "execution_count": 12,
     "metadata": {},
     "output_type": "execute_result"
    },
    {
     "data": {
      "image/png": "[encoded data removed]",
      "text/plain": [
       "<Figure size 1000x600 with 1 Axes>"
      ]
     },
     "metadata": {},
     "output_type": "display_data"
    }
   ],
   "source": [
    "df.groupby('size').count().sort_index().plot(kind='bar', figsize=(10, 6), title='Number of Graphs by Size')"
   ]
  },
  {
   "cell_type": "code",
   "execution_count": 13,
   "metadata": {},
   "outputs": [],
   "source": [
    "import pandas as pd\n",
    "from itertools import combinations\n",
    "\n",
    "def pairwise_compare_in_groups(df, compare_func, group_cols=[\"size\"]):\n",
    "    \"\"\"\n",
    "    For each group in df.groupby(group_cols), compare all pairs of rows\n",
    "    on the columns compare_cols using compare_func.\n",
    "\n",
    "    Parameters\n",
    "    ----------\n",
    "    df : pd.DataFrame\n",
    "    group_cols : str or list of str\n",
    "        Column(s) to group by.\n",
    "    compare_cols : list of str\n",
    "        Columns whose values you want to compare.\n",
    "    compare_func : function\n",
    "        A function compare_func(row1_vals, row2_vals) -> any result.\n",
    "\n",
    "    Returns\n",
    "    -------\n",
    "    pd.DataFrame\n",
    "        One row per pair, with the group key(s), the two rows' values,\n",
    "        and the comparison result.\n",
    "    \"\"\"\n",
    "    records = []\n",
    "\n",
    "    # If grouping on a single column, make it a tuple for uniformity\n",
    "    if isinstance(group_cols, str):\n",
    "        group_cols = [group_cols]\n",
    "    \n",
    "    for key, group in df.groupby(group_cols):\n",
    "        # key will be a scalar if len(group_cols)==1, so normalize to tuple\n",
    "        key = (key,) if not isinstance(key, tuple) else key\n",
    "\n",
    "        # Convert each row into a dict for easy access\n",
    "        rows = group.to_dict('records')\n",
    "\n",
    "        # All unordered pairs of rows within this group\n",
    "        for row1, row2 in combinations(rows, 2):\n",
    "            g1, g1_undirected = load_graph(os.path.join(GRAPH_DIR,row1['file']))\n",
    "            g2, g2_undirected = load_graph(os.path.join(GRAPH_DIR,row2['file']))\n",
    "            comp = compare_func(g1_undirected, g2_undirected, k=1, verbose=False, method='fkWL')\n",
    "            rec = [row1['file'], row2['file'], comp]\n",
    "    \n",
    "            records.append(rec)\n",
    "\n",
    "    return pd.DataFrame(records, columns=['file1', 'file2', 'comparison'])"
   ]
  },
  {
   "cell_type": "code",
   "execution_count": 14,
   "metadata": {},
   "outputs": [
    {
     "data": {
      "text/html": [
       "<div>\n",
       "<style scoped>\n",
       "    .dataframe tbody tr th:only-of-type {\n",
       "        vertical-align: middle;\n",
       "    }\n",
       "\n",
       "    .dataframe tbody tr th {\n",
       "        vertical-align: top;\n",
       "    }\n",
       "\n",
       "    .dataframe thead th {\n",
       "        text-align: right;\n",
       "    }\n",
       "</style>\n",
       "<table border=\"1\" class=\"dataframe\">\n",
       "  <thead>\n",
       "    <tr style=\"text-align: right;\">\n",
       "      <th></th>\n",
       "      <th>size</th>\n",
       "      <th>phrase</th>\n",
       "    </tr>\n",
       "  </thead>\n",
       "  <tbody>\n",
       "    <tr>\n",
       "      <th>es_gsd-ud-train_7825.graphml</th>\n",
       "      <td>9</td>\n",
       "      <td>Nasija es una película del año 2006.</td>\n",
       "    </tr>\n",
       "    <tr>\n",
       "      <th>es_gsd-ud-train_12948.graphml</th>\n",
       "      <td>19</td>\n",
       "      <td>Se alimenta de insectos, que busca entre las h...</td>\n",
       "    </tr>\n",
       "    <tr>\n",
       "      <th>es_gsd-ud-train_8337.graphml</th>\n",
       "      <td>12</td>\n",
       "      <td>El municipio de Howards Creek se encuentra ubi...</td>\n",
       "    </tr>\n",
       "    <tr>\n",
       "      <th>es_gsd-ud-train_9755.graphml</th>\n",
       "      <td>19</td>\n",
       "      <td>Hugh Low (1824 -- 1905) fue un naturalista, ad...</td>\n",
       "    </tr>\n",
       "    <tr>\n",
       "      <th>es_gsd-ud-train_3280.graphml</th>\n",
       "      <td>19</td>\n",
       "      <td>Esta escuela esta situada en las mismas instal...</td>\n",
       "    </tr>\n",
       "    <tr>\n",
       "      <th>...</th>\n",
       "      <td>...</td>\n",
       "      <td>...</td>\n",
       "    </tr>\n",
       "    <tr>\n",
       "      <th>es_gsd-ud-train_9211.graphml</th>\n",
       "      <td>20</td>\n",
       "      <td>La pequeña localidad de Ruffec cuenta con la p...</td>\n",
       "    </tr>\n",
       "    <tr>\n",
       "      <th>es_gsd-ud-train_5288.graphml</th>\n",
       "      <td>11</td>\n",
       "      <td>El municipio de Appleton se encuentra ubicado ...</td>\n",
       "    </tr>\n",
       "    <tr>\n",
       "      <th>es_gsd-ud-train_9369.graphml</th>\n",
       "      <td>17</td>\n",
       "      <td>Y porque nuestro Ser Superior es un ser infini...</td>\n",
       "    </tr>\n",
       "    <tr>\n",
       "      <th>es_gsd-ud-train_8663.graphml</th>\n",
       "      <td>12</td>\n",
       "      <td>Todas las estaciones se encuentran dentro de F...</td>\n",
       "    </tr>\n",
       "    <tr>\n",
       "      <th>es_gsd-ud-train_1945.graphml</th>\n",
       "      <td>15</td>\n",
       "      <td>El se le retiraba el cargo de jefe del Estado ...</td>\n",
       "    </tr>\n",
       "  </tbody>\n",
       "</table>\n",
       "<p>5613 rows × 2 columns</p>\n",
       "</div>"
      ],
      "text/plain": [
       "                               size  \\\n",
       "es_gsd-ud-train_7825.graphml      9   \n",
       "es_gsd-ud-train_12948.graphml    19   \n",
       "es_gsd-ud-train_8337.graphml     12   \n",
       "es_gsd-ud-train_9755.graphml     19   \n",
       "es_gsd-ud-train_3280.graphml     19   \n",
       "...                             ...   \n",
       "es_gsd-ud-train_9211.graphml     20   \n",
       "es_gsd-ud-train_5288.graphml     11   \n",
       "es_gsd-ud-train_9369.graphml     17   \n",
       "es_gsd-ud-train_8663.graphml     12   \n",
       "es_gsd-ud-train_1945.graphml     15   \n",
       "\n",
       "                                                                          phrase  \n",
       "es_gsd-ud-train_7825.graphml                Nasija es una película del año 2006.  \n",
       "es_gsd-ud-train_12948.graphml  Se alimenta de insectos, que busca entre las h...  \n",
       "es_gsd-ud-train_8337.graphml   El municipio de Howards Creek se encuentra ubi...  \n",
       "es_gsd-ud-train_9755.graphml   Hugh Low (1824 -- 1905) fue un naturalista, ad...  \n",
       "es_gsd-ud-train_3280.graphml   Esta escuela esta situada en las mismas instal...  \n",
       "...                                                                          ...  \n",
       "es_gsd-ud-train_9211.graphml   La pequeña localidad de Ruffec cuenta con la p...  \n",
       "es_gsd-ud-train_5288.graphml   El municipio de Appleton se encuentra ubicado ...  \n",
       "es_gsd-ud-train_9369.graphml   Y porque nuestro Ser Superior es un ser infini...  \n",
       "es_gsd-ud-train_8663.graphml   Todas las estaciones se encuentran dentro de F...  \n",
       "es_gsd-ud-train_1945.graphml   El se le retiraba el cargo de jefe del Estado ...  \n",
       "\n",
       "[5613 rows x 2 columns]"
      ]
     },
     "execution_count": 14,
     "metadata": {},
     "output_type": "execute_result"
    }
   ],
   "source": [
    "df_truncated = df[df[\"size\"]<=20]\n",
    "df_truncated"
   ]
  },
  {
   "cell_type": "code",
   "execution_count": 15,
   "metadata": {},
   "outputs": [
    {
     "data": {
      "text/html": [
       "<div>\n",
       "<style scoped>\n",
       "    .dataframe tbody tr th:only-of-type {\n",
       "        vertical-align: middle;\n",
       "    }\n",
       "\n",
       "    .dataframe tbody tr th {\n",
       "        vertical-align: top;\n",
       "    }\n",
       "\n",
       "    .dataframe thead th {\n",
       "        text-align: right;\n",
       "    }\n",
       "</style>\n",
       "<table border=\"1\" class=\"dataframe\">\n",
       "  <thead>\n",
       "    <tr style=\"text-align: right;\">\n",
       "      <th></th>\n",
       "      <th>file</th>\n",
       "      <th>size</th>\n",
       "      <th>phrase</th>\n",
       "    </tr>\n",
       "  </thead>\n",
       "  <tbody>\n",
       "    <tr>\n",
       "      <th>0</th>\n",
       "      <td>es_gsd-ud-train_7825.graphml</td>\n",
       "      <td>9</td>\n",
       "      <td>Nasija es una película del año 2006.</td>\n",
       "    </tr>\n",
       "    <tr>\n",
       "      <th>1</th>\n",
       "      <td>es_gsd-ud-train_12948.graphml</td>\n",
       "      <td>19</td>\n",
       "      <td>Se alimenta de insectos, que busca entre las h...</td>\n",
       "    </tr>\n",
       "    <tr>\n",
       "      <th>2</th>\n",
       "      <td>es_gsd-ud-train_8337.graphml</td>\n",
       "      <td>12</td>\n",
       "      <td>El municipio de Howards Creek se encuentra ubi...</td>\n",
       "    </tr>\n",
       "    <tr>\n",
       "      <th>3</th>\n",
       "      <td>es_gsd-ud-train_9755.graphml</td>\n",
       "      <td>19</td>\n",
       "      <td>Hugh Low (1824 -- 1905) fue un naturalista, ad...</td>\n",
       "    </tr>\n",
       "    <tr>\n",
       "      <th>4</th>\n",
       "      <td>es_gsd-ud-train_3280.graphml</td>\n",
       "      <td>19</td>\n",
       "      <td>Esta escuela esta situada en las mismas instal...</td>\n",
       "    </tr>\n",
       "    <tr>\n",
       "      <th>...</th>\n",
       "      <td>...</td>\n",
       "      <td>...</td>\n",
       "      <td>...</td>\n",
       "    </tr>\n",
       "    <tr>\n",
       "      <th>5608</th>\n",
       "      <td>es_gsd-ud-train_9211.graphml</td>\n",
       "      <td>20</td>\n",
       "      <td>La pequeña localidad de Ruffec cuenta con la p...</td>\n",
       "    </tr>\n",
       "    <tr>\n",
       "      <th>5609</th>\n",
       "      <td>es_gsd-ud-train_5288.graphml</td>\n",
       "      <td>11</td>\n",
       "      <td>El municipio de Appleton se encuentra ubicado ...</td>\n",
       "    </tr>\n",
       "    <tr>\n",
       "      <th>5610</th>\n",
       "      <td>es_gsd-ud-train_9369.graphml</td>\n",
       "      <td>17</td>\n",
       "      <td>Y porque nuestro Ser Superior es un ser infini...</td>\n",
       "    </tr>\n",
       "    <tr>\n",
       "      <th>5611</th>\n",
       "      <td>es_gsd-ud-train_8663.graphml</td>\n",
       "      <td>12</td>\n",
       "      <td>Todas las estaciones se encuentran dentro de F...</td>\n",
       "    </tr>\n",
       "    <tr>\n",
       "      <th>5612</th>\n",
       "      <td>es_gsd-ud-train_1945.graphml</td>\n",
       "      <td>15</td>\n",
       "      <td>El se le retiraba el cargo de jefe del Estado ...</td>\n",
       "    </tr>\n",
       "  </tbody>\n",
       "</table>\n",
       "<p>5613 rows × 3 columns</p>\n",
       "</div>"
      ],
      "text/plain": [
       "                               file  size  \\\n",
       "0      es_gsd-ud-train_7825.graphml     9   \n",
       "1     es_gsd-ud-train_12948.graphml    19   \n",
       "2      es_gsd-ud-train_8337.graphml    12   \n",
       "3      es_gsd-ud-train_9755.graphml    19   \n",
       "4      es_gsd-ud-train_3280.graphml    19   \n",
       "...                             ...   ...   \n",
       "5608   es_gsd-ud-train_9211.graphml    20   \n",
       "5609   es_gsd-ud-train_5288.graphml    11   \n",
       "5610   es_gsd-ud-train_9369.graphml    17   \n",
       "5611   es_gsd-ud-train_8663.graphml    12   \n",
       "5612   es_gsd-ud-train_1945.graphml    15   \n",
       "\n",
       "                                                 phrase  \n",
       "0                  Nasija es una película del año 2006.  \n",
       "1     Se alimenta de insectos, que busca entre las h...  \n",
       "2     El municipio de Howards Creek se encuentra ubi...  \n",
       "3     Hugh Low (1824 -- 1905) fue un naturalista, ad...  \n",
       "4     Esta escuela esta situada en las mismas instal...  \n",
       "...                                                 ...  \n",
       "5608  La pequeña localidad de Ruffec cuenta con la p...  \n",
       "5609  El municipio de Appleton se encuentra ubicado ...  \n",
       "5610  Y porque nuestro Ser Superior es un ser infini...  \n",
       "5611  Todas las estaciones se encuentran dentro de F...  \n",
       "5612  El se le retiraba el cargo de jefe del Estado ...  \n",
       "\n",
       "[5613 rows x 3 columns]"
      ]
     },
     "execution_count": 15,
     "metadata": {},
     "output_type": "execute_result"
    }
   ],
   "source": [
    "df_truncated.index.rename(\"file\", inplace=True)\n",
    "df_truncated.reset_index(inplace=True)\n",
    "df_truncated"
   ]
  },
  {
   "cell_type": "code",
   "execution_count": null,
   "metadata": {},
   "outputs": [],
   "source": [
    "comparisons = pairwise_compare_in_groups(df_truncated, group_cols=[\"size\"], compare_func=compare_graphs)\n",
    "print(comparisons)"
   ]
  },
  {
   "cell_type": "code",
   "execution_count": null,
   "metadata": {},
   "outputs": [
    {
     "name": "stdout",
     "output_type": "stream",
     "text": [
      "Non-Isomorphic by different number of nodes!\n"
     ]
    },
    {
     "data": {
      "text/plain": [
       "False"
      ]
     },
     "execution_count": 28,
     "metadata": {},
     "output_type": "execute_result"
    }
   ],
   "source": [
    "pd.DataFrame(comparisons).to_csv(\"comparisons.csv\", index=False)"
   ]
  },
  {
   "cell_type": "markdown",
   "metadata": {},
   "source": [
    "## Evaluation"
   ]
  },
  {
   "cell_type": "markdown",
   "metadata": {},
   "source": [
    "When evaluating, we must know that our implementation works besides the node naming. Also, we must test to some non-isomorphic graphs that cannot be distinguished by the WL test."
   ]
  },
  {
   "attachments": {
    "5af3da87-a5f4-4d44-8293-e5dfd9dd3ad3.png": {
     "image/png": "[encoded data removed]"
    },
    "69bf6397-f73e-437d-a78b-566b639deda7.png": {
     "image/png": "[encoded data removed]"
    },
    "82fdb576-e925-4a47-90d1-d4ed9206af5f.png": {
     "image/png": "[encoded data removed]"
    },
    "8329f627-9d3f-4ec8-8d49-cc8858b98f2b.png": {
     "image/png": "[encoded data removed]"
    }
   },
   "cell_type": "markdown",
   "metadata": {},
   "source": [
    "Example of Two Non-Isomorphic Graphs that fail the WL-Test <br>\n",
    "![image.png](attachment:69bf6397-f73e-437d-a78b-566b639deda7.png)\n",
    "![image.png](attachment:5af3da87-a5f4-4d44-8293-e5dfd9dd3ad3.png) <br>\n",
    "\n",
    "Another Example of Two Non-Isomorphic Graphs that fail the WL-Test <br>\n",
    "![image.png](attachment:8329f627-9d3f-4ec8-8d49-cc8858b98f2b.png)\n",
    "![image.png](attachment:82fdb576-e925-4a47-90d1-d4ed9206af5f.png)"
   ]
  },
  {
   "cell_type": "code",
   "execution_count": 54,
   "metadata": {
    "id": "pcueX9I4s3_n"
   },
   "outputs": [],
   "source": [
    "def evaluation(method, k):\n",
    "    print(f'Method: {method}')\n",
    "    \n",
    "    # Generates two non-isomorphic graphs\n",
    "    G = nx.Graph()\n",
    "    G_edge_list = [(1, 2), (2, 3), (1, 3), (4, 5), (5, 6), (4, 6)]\n",
    "    G.add_edges_from(G_edge_list)\n",
    "\n",
    "    H = nx.Graph()\n",
    "    H_edge_list = [(1, 2), (2, 3), (3, 4), (4, 5), (5, 6), (6, 1)]\n",
    "    H.add_edges_from(H_edge_list)\n",
    "    \n",
    "    G_ = nx.Graph()\n",
    "    G_edge_list = [(1, 2), (2, 3), (3, 4), (4, 5), (5, 6), (6, 1), (3, 7), (7, 8), (8, 9), (9, 10), (10, 4)]\n",
    "    G_.add_edges_from(G_edge_list)\n",
    "\n",
    "    H_ = nx.Graph()\n",
    "    H_edge_list = [(1, 2), (2, 3), (3, 4), (4, 5), (5, 1), (3, 6), (6, 7), (7, 8), (8, 9), (9, 10), (10, 6)]\n",
    "    H_.add_edges_from(H_edge_list)\n",
    "    \n",
    "    \n",
    "    G1 = nx.davis_southern_women_graph()\n",
    "    G2 = nx.karate_club_graph()\n",
    "    G3 = nx.les_miserables_graph()\n",
    "    G4 = nx.convert_node_labels_to_integers(G3)\n",
    "\n",
    "    G5 = nx.convert_node_labels_to_integers(G3)\n",
    "    G5.remove_edge(0, 1)\n",
    "\n",
    "    print(f'Expected: False, got: {compare_graphs(G, H, method, k)}')\n",
    "    print(f'Expected: False, got: {compare_graphs(G_, H_, method, k)}')\n",
    "    print(f'Expected: True, got: {compare_graphs(G1, G1, method, k)}')\n",
    "    print(f'Expected: True, got: {compare_graphs(G2, G2, method, k)}')\n",
    "    print(f'Expected: True, got: {compare_graphs(G3, G3, method, k)}')\n",
    "    print(f'Expected: True, got: {compare_graphs(G4, G4, method, k)}')\n",
    "    print(f'Expected: True, got: {compare_graphs(G5, G5, method, k)}')\n",
    "    \n",
    "    print(f'Expected: True, got: {compare_graphs(G3, G4, method, k)}')\n",
    "    print(f'Expected: False, got: {compare_graphs(G3, G5, method, k)}')\n",
    "    print(f'Expected: False, got: {compare_graphs(G4, G5, method, k)}')"
   ]
  },
  {
   "cell_type": "code",
   "execution_count": 8,
   "metadata": {},
   "outputs": [
    {
     "name": "stdout",
     "output_type": "stream",
     "text": [
      "Expected: False, got: True\n",
      "Expected: True, got: True\n",
      "Expected: True, got: True\n",
      "Expected: True, got: True\n",
      "Expected: True, got: True\n",
      "Expected: True, got: True\n",
      "Expected: True, got: True\n",
      "Expected: False, got: False\n",
      "Expected: False, got: False\n"
     ]
    }
   ],
   "source": [
    "evaluation('WL', k=3)"
   ]
  },
  {
   "cell_type": "code",
   "execution_count": 9,
   "metadata": {},
   "outputs": [
    {
     "name": "stdout",
     "output_type": "stream",
     "text": [
      "Expected: False, got: True\n",
      "Expected: True, got: True\n",
      "Expected: True, got: True\n",
      "Expected: True, got: True\n",
      "Expected: True, got: True\n",
      "Expected: True, got: True\n",
      "Expected: True, got: True\n",
      "Expected: False, got: False\n",
      "Expected: False, got: False\n"
     ]
    }
   ],
   "source": [
    "evaluation('kWL', k=3)"
   ]
  },
  {
   "cell_type": "code",
   "execution_count": 53,
   "metadata": {},
   "outputs": [
    {
     "ename": "NameError",
     "evalue": "name 'evaluation' is not defined",
     "output_type": "error",
     "traceback": [
      "\u001b[1;31m---------------------------------------------------------------------------\u001b[0m",
      "\u001b[1;31mNameError\u001b[0m                                 Traceback (most recent call last)",
      "Input \u001b[1;32mIn [53]\u001b[0m, in \u001b[0;36m<cell line: 1>\u001b[1;34m()\u001b[0m\n\u001b[1;32m----> 1\u001b[0m \u001b[43mevaluation\u001b[49m(\u001b[38;5;124m'\u001b[39m\u001b[38;5;124mfkWL\u001b[39m\u001b[38;5;124m'\u001b[39m, k\u001b[38;5;241m=\u001b[39m\u001b[38;5;241m3\u001b[39m)\n",
      "\u001b[1;31mNameError\u001b[0m: name 'evaluation' is not defined"
     ]
    }
   ],
   "source": [
    "evaluation('fkWL', k=3)"
   ]
  },
  {
   "cell_type": "code",
   "execution_count": null,
   "metadata": {},
   "outputs": [],
   "source": []
  }
 ],
 "metadata": {
  "colab": {
   "collapsed_sections": [],
   "name": "Weisfeiler-Lehman isomorphism test.ipynb",
   "provenance": []
  },
  "kernelspec": {
   "display_name": "base",
   "language": "python",
   "name": "python3"
  },
  "language_info": {
   "codemirror_mode": {
    "name": "ipython",
    "version": 3
   },
   "file_extension": ".py",
   "mimetype": "text/x-python",
   "name": "python",
   "nbconvert_exporter": "python",
   "pygments_lexer": "ipython3",
   "version": "3.11.4"
  }
 },
 "nbformat": 4,
 "nbformat_minor": 4
}
