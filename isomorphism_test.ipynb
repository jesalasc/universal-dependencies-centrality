{
 "cells": [
  {
   "cell_type": "markdown",
   "metadata": {},
   "source": [
    "# The Weisfeiler-Lehman Isomorphism Test\n",
    "\n",
    "The Weisfeiler-Lehman Isomorphism Test, also called WL-Test, is a classical result from the graph theory. It is an heuristic to find out if two graphs are isomorphic. The problem of the graph isomorphism does not have a definitive solution in polinomial time yet, making some people say it may be NP-Complete. The WL-Test offers one alternative that allows us to estimate it.\n",
    "\n",
    "However, since this is an heuristic, the test is not perfect. Therefore, it fail in some simple cases and because of that new versions of this test were proposed.\n",
    "\n",
    "In this notebook we will explore a little about the theory of the test and implement it in its classical form and also some newer versions."
   ]
  },
  {
   "cell_type": "code",
   "execution_count": 3,
   "metadata": {},
   "outputs": [
    {
     "name": "stdout",
     "output_type": "stream",
     "text": [
      "Defaulting to user installation because normal site-packages is not writeable\n",
      "Collecting networkx\n",
      "  Downloading networkx-3.4.2-py3-none-any.whl (1.7 MB)\n",
      "\u001b[2K     \u001b[38;2;114;156;31m━━━━━━━━━━━━━━━━━━━━━━━━━━━━━━━━━━━━━━━━\u001b[0m \u001b[32m1.7/1.7 MB\u001b[0m \u001b[31m5.1 MB/s\u001b[0m eta \u001b[36m0:00:00\u001b[0m0m eta \u001b[36m0:00:01\u001b[0m[36m0:00:01\u001b[0m\n",
      "\u001b[?25h\u001b[33mWARNING: Error parsing requirements for typing-extensions: [Errno 2] No such file or directory: '/mnt-homes/kraken/jsalas/.local/lib/python3.10/site-packages/typing_extensions-4.14.1.dist-info/METADATA'\u001b[0m\u001b[33m\n",
      "\u001b[0mInstalling collected packages: networkx\n",
      "Successfully installed networkx-3.4.2\n"
     ]
    }
   ],
   "source": [
    "!pip3 install networkx"
   ]
  },
  {
   "cell_type": "code",
   "execution_count": 1,
   "metadata": {},
   "outputs": [],
   "source": [
    "import networkx as nx\n",
    "def load_graph(file):\n",
    "    G = nx.read_graphml(file).to_undirected()\n",
    "    G.graph['phrase'] = G.graph.get('phrase', 'No phrase found')\n",
    "    return G"
   ]
  },
  {
   "cell_type": "markdown",
   "metadata": {},
   "source": [
    "# New implementation (gpt)"
   ]
  },
  {
   "cell_type": "code",
   "execution_count": 64,
   "metadata": {},
   "outputs": [],
   "source": [
    "from __future__ import annotations\n",
    "from pathlib import Path\n",
    "from collections import defaultdict\n",
    "from collections import Counter\n",
    "import copy\n",
    "\n",
    "# ---------- WL over trees ----------\n",
    "def wl_tree_signature(G: nx.Graph) -> str:\n",
    "    \"\"\"\n",
    "    1-WL color refinement on an (unlabeled) tree G.\n",
    "    Returns a canonical signature string usable as a dict key.\n",
    "    \"\"\"\n",
    "    # Relabel to 0..n-1 for array-friendly processing\n",
    "    G = nx.relabel.convert_node_labels_to_integers(G, ordering=\"sorted\")  # keeps attrs by default\n",
    "    n = G.number_of_nodes()\n",
    "\n",
    "    # adjacency as list of lists for speed\n",
    "    adj = [list(G.neighbors(v)) for v in range(n)]  # neighbors() yields iterator.  [oai_citation:6‡networkx.org](https://networkx.org/documentation/stable/reference/classes/generated/networkx.Graph.neighbors.html?utm_source=chatgpt.com)\n",
    "    colors = [0] * n\n",
    "    tmp = [None] * n\n",
    "    i = 0\n",
    "    signature = \"\"\n",
    "    while True:      \n",
    "        hist = defaultdict(int)\n",
    "        for c in colors:\n",
    "            hist[c] += 1\n",
    "        signature+= \"|\".join(f\"{c}:{hist[c]}\" for c in sorted(hist))\n",
    "        signature += \"#\"\n",
    "        for v in range(n):\n",
    "            neigh_cols = sorted(colors[u] for u in adj[v])\n",
    "            tmp[v] = str(colors[v]) +\"_\"+ str(tuple(neigh_cols))\n",
    "        # compress tuples → small ints\n",
    "        mapping = {}\n",
    "        next_c = 0\n",
    "        new_colors = [0] * n\n",
    "        for v in range(n):\n",
    "            key = tmp[v]\n",
    "            #print(f\"key is {key}\")\n",
    "            if key not in mapping:\n",
    "                mapping[key] = next_c\n",
    "                next_c += 1\n",
    "            new_colors[v] = mapping[key]\n",
    "        if new_colors == colors:\n",
    "            break\n",
    "        colors = new_colors\n",
    "        i+=1\n",
    "\n",
    "    return signature"
   ]
  },
  {
   "cell_type": "code",
   "execution_count": 45,
   "metadata": {},
   "outputs": [
    {
     "data": {
      "text/plain": [
       "True"
      ]
     },
     "execution_count": 45,
     "metadata": {},
     "output_type": "execute_result"
    }
   ],
   "source": [
    "mapping = {}\n",
    "mapping[(0,0,0)] = 0\n",
    "(0,0,0) in mapping"
   ]
  },
  {
   "cell_type": "code",
   "execution_count": 65,
   "metadata": {},
   "outputs": [],
   "source": [
    "from pathlib import Path\n",
    "GRAPH_DIR = \"./UD_Spanish-GSD\"\n",
    "# --------- CONFIG ---------\n",
    "FOLDER = Path(GRAPH_DIR)\n",
    "OUT_CSV = Path(\"isomorphic_groups3.csv\")"
   ]
  },
  {
   "cell_type": "code",
   "execution_count": 66,
   "metadata": {},
   "outputs": [
    {
     "name": "stderr",
     "output_type": "stream",
     "text": [
      "14187it [00:07, 1779.14it/s]"
     ]
    },
    {
     "name": "stdout",
     "output_type": "stream",
     "text": [
      "Done. Wrote 12688 isomorphism classes to isomorphic_groups3.csv\n"
     ]
    },
    {
     "name": "stderr",
     "output_type": "stream",
     "text": [
      "\n"
     ]
    }
   ],
   "source": [
    "from tqdm import tqdm  # progress bar for long operations\n",
    "\n",
    "groups = defaultdict(list)\n",
    "\n",
    "for path in tqdm(FOLDER.rglob(\"*.graphml\")):\n",
    "    try:\n",
    "         G = load_graph(path)\n",
    "    except Exception as e:\n",
    "        print(f\"[WARN] Could not read {path}: {e}\")\n",
    "        continue\n",
    "\n",
    "    \n",
    "    sig = wl_tree_signature(G)\n",
    "    #sig = wl_signature_hashed(G)\n",
    "    #sig = str(fkWL(G, 1, verbose=False))\n",
    "    groups[sig].append(str(path))\n",
    "\n",
    "# --------- Write result ---------\n",
    "with OUT_CSV.open(\"w\", encoding=\"utf-8\") as f:\n",
    "    f.write(\"signature;count;files\\n\")\n",
    "    for sig, files in groups.items():\n",
    "        f.write(f\"{sig};{len(files)};\\\"{'|'.join(files)}\\\"\\n\")\n",
    "\n",
    "print(f\"Done. Wrote {len(groups)} isomorphism classes to {OUT_CSV}\")"
   ]
  },
  {
   "cell_type": "code",
   "execution_count": 68,
   "metadata": {},
   "outputs": [
    {
     "data": {
      "text/html": [
       "<div>\n",
       "<style scoped>\n",
       "    .dataframe tbody tr th:only-of-type {\n",
       "        vertical-align: middle;\n",
       "    }\n",
       "\n",
       "    .dataframe tbody tr th {\n",
       "        vertical-align: top;\n",
       "    }\n",
       "\n",
       "    .dataframe thead th {\n",
       "        text-align: right;\n",
       "    }\n",
       "</style>\n",
       "<table border=\"1\" class=\"dataframe\">\n",
       "  <thead>\n",
       "    <tr style=\"text-align: right;\">\n",
       "      <th></th>\n",
       "      <th>signature</th>\n",
       "      <th>count</th>\n",
       "      <th>files</th>\n",
       "    </tr>\n",
       "  </thead>\n",
       "  <tbody>\n",
       "    <tr>\n",
       "      <th>0</th>\n",
       "      <td>0:9#0:7|1:1|2:1#0:4|1:1|2:3|3:1#</td>\n",
       "      <td>5</td>\n",
       "      <td>UD_Spanish-GSD/es_gsd-ud-train_7825.graphml|UD...</td>\n",
       "    </tr>\n",
       "    <tr>\n",
       "      <th>1</th>\n",
       "      <td>0:19#0:13|1:1|2:3|3:2#0:5|1:1|2:3|3:1|4:5|5:1|...</td>\n",
       "      <td>1</td>\n",
       "      <td>UD_Spanish-GSD/es_gsd-ud-train_12948.graphml</td>\n",
       "    </tr>\n",
       "    <tr>\n",
       "      <th>2</th>\n",
       "      <td>0:24#0:15|1:3|2:3|3:1|4:2#0:3|1:1|2:5|3:1|4:1|...</td>\n",
       "      <td>1</td>\n",
       "      <td>UD_Spanish-GSD/es_gsd-ud-train_9745.graphml</td>\n",
       "    </tr>\n",
       "    <tr>\n",
       "      <th>3</th>\n",
       "      <td>0:37#0:24|1:1|2:4|3:5|4:2|5:1#0:10|1:1|2:4|3:6...</td>\n",
       "      <td>1</td>\n",
       "      <td>UD_Spanish-GSD/es_gsd-ud-train_3290.graphml</td>\n",
       "    </tr>\n",
       "    <tr>\n",
       "      <th>4</th>\n",
       "      <td>0:50#0:32|1:6|2:4|3:1|4:1|5:3|6:3#0:12|1:2|2:1...</td>\n",
       "      <td>1</td>\n",
       "      <td>UD_Spanish-GSD/es_gsd-ud-train_1588.graphml</td>\n",
       "    </tr>\n",
       "    <tr>\n",
       "      <th>...</th>\n",
       "      <td>...</td>\n",
       "      <td>...</td>\n",
       "      <td>...</td>\n",
       "    </tr>\n",
       "    <tr>\n",
       "      <th>12683</th>\n",
       "      <td>0:34#0:22|1:3|2:3|3:4|4:1|5:1#0:8|1:3|2:1|3:1|...</td>\n",
       "      <td>1</td>\n",
       "      <td>UD_Spanish-GSD/es_gsd-ud-train_7590.graphml</td>\n",
       "    </tr>\n",
       "    <tr>\n",
       "      <th>12684</th>\n",
       "      <td>0:29#0:19|1:3|2:2|3:2|4:2|5:1#0:3|1:6|2:2|3:1|...</td>\n",
       "      <td>1</td>\n",
       "      <td>UD_Spanish-GSD/es_gsd-ud-train_11797.graphml</td>\n",
       "    </tr>\n",
       "    <tr>\n",
       "      <th>12685</th>\n",
       "      <td>0:12#0:7|1:3|2:1|3:1#0:4|1:1|2:2|3:1|4:1|5:1|6...</td>\n",
       "      <td>1</td>\n",
       "      <td>UD_Spanish-GSD/es_gsd-ud-train_8663.graphml</td>\n",
       "    </tr>\n",
       "    <tr>\n",
       "      <th>12686</th>\n",
       "      <td>0:15#0:10|1:1|2:1|3:1|4:2#0:4|1:3|2:1|3:1|4:1|...</td>\n",
       "      <td>1</td>\n",
       "      <td>UD_Spanish-GSD/es_gsd-ud-train_1945.graphml</td>\n",
       "    </tr>\n",
       "    <tr>\n",
       "      <th>12687</th>\n",
       "      <td>0:26#0:17|1:5|2:1|3:1|4:2#0:6|1:1|2:7|3:1|4:3|...</td>\n",
       "      <td>1</td>\n",
       "      <td>UD_Spanish-GSD/es_gsd-ud-train_6903.graphml</td>\n",
       "    </tr>\n",
       "  </tbody>\n",
       "</table>\n",
       "<p>12688 rows × 3 columns</p>\n",
       "</div>"
      ],
      "text/plain": [
       "                                               signature  count  \\\n",
       "0                       0:9#0:7|1:1|2:1#0:4|1:1|2:3|3:1#      5   \n",
       "1      0:19#0:13|1:1|2:3|3:2#0:5|1:1|2:3|3:1|4:5|5:1|...      1   \n",
       "2      0:24#0:15|1:3|2:3|3:1|4:2#0:3|1:1|2:5|3:1|4:1|...      1   \n",
       "3      0:37#0:24|1:1|2:4|3:5|4:2|5:1#0:10|1:1|2:4|3:6...      1   \n",
       "4      0:50#0:32|1:6|2:4|3:1|4:1|5:3|6:3#0:12|1:2|2:1...      1   \n",
       "...                                                  ...    ...   \n",
       "12683  0:34#0:22|1:3|2:3|3:4|4:1|5:1#0:8|1:3|2:1|3:1|...      1   \n",
       "12684  0:29#0:19|1:3|2:2|3:2|4:2|5:1#0:3|1:6|2:2|3:1|...      1   \n",
       "12685  0:12#0:7|1:3|2:1|3:1#0:4|1:1|2:2|3:1|4:1|5:1|6...      1   \n",
       "12686  0:15#0:10|1:1|2:1|3:1|4:2#0:4|1:3|2:1|3:1|4:1|...      1   \n",
       "12687  0:26#0:17|1:5|2:1|3:1|4:2#0:6|1:1|2:7|3:1|4:3|...      1   \n",
       "\n",
       "                                                   files  \n",
       "0      UD_Spanish-GSD/es_gsd-ud-train_7825.graphml|UD...  \n",
       "1           UD_Spanish-GSD/es_gsd-ud-train_12948.graphml  \n",
       "2            UD_Spanish-GSD/es_gsd-ud-train_9745.graphml  \n",
       "3            UD_Spanish-GSD/es_gsd-ud-train_3290.graphml  \n",
       "4            UD_Spanish-GSD/es_gsd-ud-train_1588.graphml  \n",
       "...                                                  ...  \n",
       "12683        UD_Spanish-GSD/es_gsd-ud-train_7590.graphml  \n",
       "12684       UD_Spanish-GSD/es_gsd-ud-train_11797.graphml  \n",
       "12685        UD_Spanish-GSD/es_gsd-ud-train_8663.graphml  \n",
       "12686        UD_Spanish-GSD/es_gsd-ud-train_1945.graphml  \n",
       "12687        UD_Spanish-GSD/es_gsd-ud-train_6903.graphml  \n",
       "\n",
       "[12688 rows x 3 columns]"
      ]
     },
     "execution_count": 68,
     "metadata": {},
     "output_type": "execute_result"
    }
   ],
   "source": [
    "import pandas as pd\n",
    "\n",
    "df = pd.read_csv(\"isomorphic_groups3.csv\", sep=\";\")\n",
    "df\n"
   ]
  },
  {
   "cell_type": "code",
   "execution_count": 74,
   "metadata": {},
   "outputs": [
    {
     "data": {
      "text/plain": [
       "'0:13#0:8|1:2|2:2|3:1#0:2|1:4|2:1|3:2|4:1|5:1|6:1|7:1#0:1|1:4|2:1|3:1|4:1|5:1|6:1|7:1|8:1|9:1#'"
      ]
     },
     "execution_count": 74,
     "metadata": {},
     "output_type": "execute_result"
    }
   ],
   "source": [
    "df[df[\"count\"]==33][\"signature\"].values[0]"
   ]
  },
  {
   "cell_type": "code",
   "execution_count": 75,
   "metadata": {},
   "outputs": [
    {
     "data": {
      "text/plain": [
       "['UD_Spanish-GSD/es_gsd-ud-train_7835.graphml',\n",
       " 'UD_Spanish-GSD/es_gsd-ud-train_909.graphml',\n",
       " 'UD_Spanish-GSD/es_gsd-ud-train_8682.graphml',\n",
       " 'UD_Spanish-GSD/es_gsd-ud-train_4727.graphml',\n",
       " 'UD_Spanish-GSD/es_gsd-ud-train_8188.graphml',\n",
       " 'UD_Spanish-GSD/es_gsd-ud-train_2360.graphml',\n",
       " 'UD_Spanish-GSD/es_gsd-ud-train_13984.graphml',\n",
       " 'UD_Spanish-GSD/es_gsd-ud-train_13446.graphml',\n",
       " 'UD_Spanish-GSD/es_gsd-ud-train_562.graphml',\n",
       " 'UD_Spanish-GSD/es_gsd-ud-train_13089.graphml',\n",
       " 'UD_Spanish-GSD/es_gsd-ud-train_10222.graphml',\n",
       " 'UD_Spanish-GSD/es_gsd-ud-train_7743.graphml',\n",
       " 'UD_Spanish-GSD/es_gsd-ud-train_7510.graphml',\n",
       " 'UD_Spanish-GSD/es_gsd-ud-train_8105.graphml',\n",
       " 'UD_Spanish-GSD/es_gsd-ud-train_7604.graphml',\n",
       " 'UD_Spanish-GSD/es_gsd-ud-train_7619.graphml',\n",
       " 'UD_Spanish-GSD/es_gsd-ud-train_8647.graphml',\n",
       " 'UD_Spanish-GSD/es_gsd-ud-train_6767.graphml',\n",
       " 'UD_Spanish-GSD/es_gsd-ud-train_12780.graphml',\n",
       " 'UD_Spanish-GSD/es_gsd-ud-train_7194.graphml',\n",
       " 'UD_Spanish-GSD/es_gsd-ud-train_533.graphml',\n",
       " 'UD_Spanish-GSD/es_gsd-ud-train_13025.graphml',\n",
       " 'UD_Spanish-GSD/es_gsd-ud-train_4041.graphml',\n",
       " 'UD_Spanish-GSD/es_gsd-ud-train_3075.graphml',\n",
       " 'UD_Spanish-GSD/es_gsd-ud-train_12606.graphml',\n",
       " 'UD_Spanish-GSD/es_gsd-ud-train_11094.graphml',\n",
       " 'UD_Spanish-GSD/es_gsd-ud-train_4894.graphml',\n",
       " 'UD_Spanish-GSD/es_gsd-ud-train_2874.graphml',\n",
       " 'UD_Spanish-GSD/es_gsd-ud-train_11440.graphml',\n",
       " 'UD_Spanish-GSD/es_gsd-ud-train_7292.graphml',\n",
       " 'UD_Spanish-GSD/es_gsd-ud-train_2603.graphml',\n",
       " 'UD_Spanish-GSD/es_gsd-ud-train_13769.graphml',\n",
       " 'UD_Spanish-GSD/es_gsd-ud-train_9201.graphml']"
      ]
     },
     "execution_count": 75,
     "metadata": {},
     "output_type": "execute_result"
    }
   ],
   "source": [
    "df[df[\"signature\"] == \"0:13#0:8|1:2|2:2|3:1#0:2|1:4|2:1|3:2|4:1|5:1|6:1|7:1#0:1|1:4|2:1|3:1|4:1|5:1|6:1|7:1|8:1|9:1#\"][\"files\"].values[0].split(\"|\")"
   ]
  },
  {
   "cell_type": "code",
   "execution_count": null,
   "metadata": {},
   "outputs": [],
   "source": []
  }
 ],
 "metadata": {
  "colab": {
   "collapsed_sections": [],
   "name": "Weisfeiler-Lehman isomorphism test.ipynb",
   "provenance": []
  },
  "kernelspec": {
   "display_name": "base",
   "language": "python",
   "name": "python3"
  },
  "language_info": {
   "codemirror_mode": {
    "name": "ipython",
    "version": 3
   },
   "file_extension": ".py",
   "mimetype": "text/x-python",
   "name": "python",
   "nbconvert_exporter": "python",
   "pygments_lexer": "ipython3",
   "version": "3.11.4"
  }
 },
 "nbformat": 4,
 "nbformat_minor": 4
}
