{
 "cells": [
  {
   "cell_type": "markdown",
   "metadata": {},
   "source": [
    "# The Weisfeiler-Lehman Isomorphism Test\n",
    "\n",
    "The Weisfeiler-Lehman Isomorphism Test, also called WL-Test, is a classical result from the graph theory. It is an heuristic to find out if two graphs are isomorphic. The problem of the graph isomorphism does not have a definitive solution in polinomial time yet, making some people say it may be NP-Complete. The WL-Test offers one alternative that allows us to estimate it.\n",
    "\n",
    "However, since this is an heuristic, the test is not perfect. Therefore, it fail in some simple cases and because of that new versions of this test were proposed.\n",
    "\n",
    "In this notebook we will explore a little about the theory of the test and implement it in its classical form and also some newer versions."
   ]
  },
  {
   "cell_type": "code",
   "execution_count": 3,
   "metadata": {},
   "outputs": [
    {
     "name": "stdout",
     "output_type": "stream",
     "text": [
      "Defaulting to user installation because normal site-packages is not writeable\n",
      "Collecting networkx\n",
      "  Downloading networkx-3.4.2-py3-none-any.whl (1.7 MB)\n",
      "\u001b[2K     \u001b[38;2;114;156;31m━━━━━━━━━━━━━━━━━━━━━━━━━━━━━━━━━━━━━━━━\u001b[0m \u001b[32m1.7/1.7 MB\u001b[0m \u001b[31m5.1 MB/s\u001b[0m eta \u001b[36m0:00:00\u001b[0m0m eta \u001b[36m0:00:01\u001b[0m[36m0:00:01\u001b[0m\n",
      "\u001b[?25h\u001b[33mWARNING: Error parsing requirements for typing-extensions: [Errno 2] No such file or directory: '/mnt-homes/kraken/jsalas/.local/lib/python3.10/site-packages/typing_extensions-4.14.1.dist-info/METADATA'\u001b[0m\u001b[33m\n",
      "\u001b[0mInstalling collected packages: networkx\n",
      "Successfully installed networkx-3.4.2\n"
     ]
    }
   ],
   "source": [
    "!pip3 install networkx"
   ]
  },
  {
   "cell_type": "code",
   "execution_count": 52,
   "metadata": {},
   "outputs": [],
   "source": [
    "import networkx as nx\n",
    "def load_graph(file):\n",
    "    G = nx.Graph(nx.read_graphml(file))\n",
    "    G.graph['phrase'] = G.graph.get('phrase', 'No phrase found')\n",
    "    return G"
   ]
  },
  {
   "cell_type": "markdown",
   "metadata": {},
   "source": [
    "# New implementation (gpt)"
   ]
  },
  {
   "cell_type": "code",
   "execution_count": 56,
   "metadata": {},
   "outputs": [],
   "source": [
    "from __future__ import annotations\n",
    "from pathlib import Path\n",
    "from collections import defaultdict\n",
    "from collections import Counter\n",
    "\n",
    "def wl_signature_strong(G: nx.Graph) -> str:\n",
    "    G = nx.relabel.convert_node_labels_to_integers(G, ordering=\"decreasing degree\")\n",
    "    n = G.number_of_nodes()\n",
    "    adj = [list(G.neighbors(v)) for v in range(n)]\n",
    "    colors = [0]*n\n",
    "    tmp = [None]*n\n",
    "\n",
    "    while True:\n",
    "        for v in range(n):\n",
    "            neigh_cols = sorted(colors[u] for u in adj[v])\n",
    "            tmp[v] = (colors[v], tuple(neigh_cols))\n",
    "        mapping, next_c = {}, 0\n",
    "        new_colors = [0]*n\n",
    "        for v in range(n):\n",
    "            key = tmp[v]\n",
    "            if key not in mapping:\n",
    "                mapping[key] = next_c\n",
    "                next_c += 1\n",
    "            new_colors[v] = mapping[key]\n",
    "        if new_colors == colors:\n",
    "            break\n",
    "        colors = new_colors\n",
    "\n",
    "    # Stronger signature: ordered list of final colors\n",
    "    sig_vec = ','.join(map(str, colors))\n",
    "\n",
    "    # Optional: also bake in sorted (color, degree) histogram for robustness\n",
    "    hist = Counter(colors)\n",
    "    sig_hist = '|'.join(f'{c}:{hist[c]}' for c in sorted(hist))\n",
    "    return f\"{len(colors)}#{sig_vec}#{sig_hist}\"\n"
   ]
  },
  {
   "cell_type": "code",
   "execution_count": 57,
   "metadata": {},
   "outputs": [],
   "source": [
    "from pathlib import Path\n",
    "GRAPH_DIR = \"./UD_Spanish-GSD\"\n",
    "# --------- CONFIG ---------\n",
    "FOLDER = Path(GRAPH_DIR)\n",
    "OUT_CSV = Path(\"isomorphic_groups3.csv\")"
   ]
  },
  {
   "cell_type": "code",
   "execution_count": 58,
   "metadata": {},
   "outputs": [
    {
     "name": "stderr",
     "output_type": "stream",
     "text": [
      "14187it [00:07, 1960.68it/s]"
     ]
    },
    {
     "name": "stdout",
     "output_type": "stream",
     "text": [
      "Done. Wrote 12336 isomorphism classes to isomorphic_groups3.csv\n"
     ]
    },
    {
     "name": "stderr",
     "output_type": "stream",
     "text": [
      "\n"
     ]
    }
   ],
   "source": [
    "from tqdm import tqdm  # progress bar for long operations\n",
    "\n",
    "groups = defaultdict(list)\n",
    "\n",
    "for path in tqdm(FOLDER.rglob(\"*.graphml\")):\n",
    "    try:\n",
    "         G = load_graph(path)\n",
    "    except Exception as e:\n",
    "        print(f\"[WARN] Could not read {path}: {e}\")\n",
    "        continue\n",
    "\n",
    "    sig = wl_signature_strong(G)\n",
    "    groups[sig].append(str(path))\n",
    "\n",
    "# --------- Write result ---------\n",
    "with OUT_CSV.open(\"w\", encoding=\"utf-8\") as f:\n",
    "    f.write(\"signature;count;files\\n\")\n",
    "    for sig, files in groups.items():\n",
    "        f.write(f\"{sig};{len(files)};\\\"{'|'.join(files)}\\\"\\n\")\n",
    "\n",
    "print(f\"Done. Wrote {len(groups)} isomorphism classes to {OUT_CSV}\")"
   ]
  },
  {
   "cell_type": "code",
   "execution_count": 59,
   "metadata": {},
   "outputs": [
    {
     "data": {
      "text/html": [
       "<div>\n",
       "<style scoped>\n",
       "    .dataframe tbody tr th:only-of-type {\n",
       "        vertical-align: middle;\n",
       "    }\n",
       "\n",
       "    .dataframe tbody tr th {\n",
       "        vertical-align: top;\n",
       "    }\n",
       "\n",
       "    .dataframe thead th {\n",
       "        text-align: right;\n",
       "    }\n",
       "</style>\n",
       "<table border=\"1\" class=\"dataframe\">\n",
       "  <thead>\n",
       "    <tr style=\"text-align: right;\">\n",
       "      <th></th>\n",
       "      <th>signature</th>\n",
       "      <th>count</th>\n",
       "      <th>files</th>\n",
       "    </tr>\n",
       "  </thead>\n",
       "  <tbody>\n",
       "    <tr>\n",
       "      <th>0</th>\n",
       "      <td>9#0,1,2,3,3,3,2,2,2#0:1|1:1|2:4|3:3</td>\n",
       "      <td>5</td>\n",
       "      <td>UD_Spanish-GSD/es_gsd-ud-train_7825.graphml|UD...</td>\n",
       "    </tr>\n",
       "    <tr>\n",
       "      <th>1</th>\n",
       "      <td>19#0,1,2,3,4,5,6,6,7,8,8,9,10,10,10,11,11,6,9#...</td>\n",
       "      <td>1</td>\n",
       "      <td>UD_Spanish-GSD/es_gsd-ud-train_12948.graphml</td>\n",
       "    </tr>\n",
       "    <tr>\n",
       "      <th>2</th>\n",
       "      <td>24#0,1,2,3,4,5,6,7,8,9,9,10,10,11,12,13,11,13,...</td>\n",
       "      <td>1</td>\n",
       "      <td>UD_Spanish-GSD/es_gsd-ud-train_9745.graphml</td>\n",
       "    </tr>\n",
       "    <tr>\n",
       "      <th>3</th>\n",
       "      <td>37#0,1,2,3,4,5,6,7,8,9,10,11,12,13,14,14,15,16...</td>\n",
       "      <td>1</td>\n",
       "      <td>UD_Spanish-GSD/es_gsd-ud-train_3290.graphml</td>\n",
       "    </tr>\n",
       "    <tr>\n",
       "      <th>4</th>\n",
       "      <td>50#0,1,2,3,4,5,6,7,8,9,10,11,12,13,14,15,15,16...</td>\n",
       "      <td>1</td>\n",
       "      <td>UD_Spanish-GSD/es_gsd-ud-train_1588.graphml</td>\n",
       "    </tr>\n",
       "    <tr>\n",
       "      <th>...</th>\n",
       "      <td>...</td>\n",
       "      <td>...</td>\n",
       "      <td>...</td>\n",
       "    </tr>\n",
       "    <tr>\n",
       "      <th>12331</th>\n",
       "      <td>34#0,1,2,3,4,5,6,7,8,9,10,11,12,12,12,12,12,13...</td>\n",
       "      <td>1</td>\n",
       "      <td>UD_Spanish-GSD/es_gsd-ud-train_7590.graphml</td>\n",
       "    </tr>\n",
       "    <tr>\n",
       "      <th>12332</th>\n",
       "      <td>29#0,1,2,3,4,5,6,7,8,9,10,11,10,12,13,14,14,14...</td>\n",
       "      <td>1</td>\n",
       "      <td>UD_Spanish-GSD/es_gsd-ud-train_11797.graphml</td>\n",
       "    </tr>\n",
       "    <tr>\n",
       "      <th>12333</th>\n",
       "      <td>12#0,1,2,3,4,5,6,7,8,7,5,8#0:1|1:1|2:1|3:1|4:1...</td>\n",
       "      <td>1</td>\n",
       "      <td>UD_Spanish-GSD/es_gsd-ud-train_8663.graphml</td>\n",
       "    </tr>\n",
       "    <tr>\n",
       "      <th>12334</th>\n",
       "      <td>15#0,1,2,3,4,5,6,7,8,8,8,9,5,5,8#0:1|1:1|2:1|3...</td>\n",
       "      <td>1</td>\n",
       "      <td>UD_Spanish-GSD/es_gsd-ud-train_1945.graphml</td>\n",
       "    </tr>\n",
       "    <tr>\n",
       "      <th>12335</th>\n",
       "      <td>26#0,1,2,3,4,5,6,7,8,9,9,10,11,11,10,12,12,13,...</td>\n",
       "      <td>1</td>\n",
       "      <td>UD_Spanish-GSD/es_gsd-ud-train_6903.graphml</td>\n",
       "    </tr>\n",
       "  </tbody>\n",
       "</table>\n",
       "<p>12336 rows × 3 columns</p>\n",
       "</div>"
      ],
      "text/plain": [
       "                                               signature  count  \\\n",
       "0                    9#0,1,2,3,3,3,2,2,2#0:1|1:1|2:4|3:3      5   \n",
       "1      19#0,1,2,3,4,5,6,6,7,8,8,9,10,10,10,11,11,6,9#...      1   \n",
       "2      24#0,1,2,3,4,5,6,7,8,9,9,10,10,11,12,13,11,13,...      1   \n",
       "3      37#0,1,2,3,4,5,6,7,8,9,10,11,12,13,14,14,15,16...      1   \n",
       "4      50#0,1,2,3,4,5,6,7,8,9,10,11,12,13,14,15,15,16...      1   \n",
       "...                                                  ...    ...   \n",
       "12331  34#0,1,2,3,4,5,6,7,8,9,10,11,12,12,12,12,12,13...      1   \n",
       "12332  29#0,1,2,3,4,5,6,7,8,9,10,11,10,12,13,14,14,14...      1   \n",
       "12333  12#0,1,2,3,4,5,6,7,8,7,5,8#0:1|1:1|2:1|3:1|4:1...      1   \n",
       "12334  15#0,1,2,3,4,5,6,7,8,8,8,9,5,5,8#0:1|1:1|2:1|3...      1   \n",
       "12335  26#0,1,2,3,4,5,6,7,8,9,9,10,11,11,10,12,12,13,...      1   \n",
       "\n",
       "                                                   files  \n",
       "0      UD_Spanish-GSD/es_gsd-ud-train_7825.graphml|UD...  \n",
       "1           UD_Spanish-GSD/es_gsd-ud-train_12948.graphml  \n",
       "2            UD_Spanish-GSD/es_gsd-ud-train_9745.graphml  \n",
       "3            UD_Spanish-GSD/es_gsd-ud-train_3290.graphml  \n",
       "4            UD_Spanish-GSD/es_gsd-ud-train_1588.graphml  \n",
       "...                                                  ...  \n",
       "12331        UD_Spanish-GSD/es_gsd-ud-train_7590.graphml  \n",
       "12332       UD_Spanish-GSD/es_gsd-ud-train_11797.graphml  \n",
       "12333        UD_Spanish-GSD/es_gsd-ud-train_8663.graphml  \n",
       "12334        UD_Spanish-GSD/es_gsd-ud-train_1945.graphml  \n",
       "12335        UD_Spanish-GSD/es_gsd-ud-train_6903.graphml  \n",
       "\n",
       "[12336 rows x 3 columns]"
      ]
     },
     "execution_count": 59,
     "metadata": {},
     "output_type": "execute_result"
    }
   ],
   "source": [
    "import pandas as pd\n",
    "\n",
    "df = pd.read_csv(\"isomorphic_groups3.csv\", sep=\";\")\n",
    "df\n"
   ]
  },
  {
   "cell_type": "code",
   "execution_count": 60,
   "metadata": {},
   "outputs": [
    {
     "data": {
      "text/html": [
       "<div>\n",
       "<style scoped>\n",
       "    .dataframe tbody tr th:only-of-type {\n",
       "        vertical-align: middle;\n",
       "    }\n",
       "\n",
       "    .dataframe tbody tr th {\n",
       "        vertical-align: top;\n",
       "    }\n",
       "\n",
       "    .dataframe thead th {\n",
       "        text-align: right;\n",
       "    }\n",
       "</style>\n",
       "<table border=\"1\" class=\"dataframe\">\n",
       "  <thead>\n",
       "    <tr style=\"text-align: right;\">\n",
       "      <th></th>\n",
       "      <th>signature</th>\n",
       "      <th>count</th>\n",
       "      <th>files</th>\n",
       "    </tr>\n",
       "  </thead>\n",
       "  <tbody>\n",
       "  </tbody>\n",
       "</table>\n",
       "</div>"
      ],
      "text/plain": [
       "Empty DataFrame\n",
       "Columns: [signature, count, files]\n",
       "Index: []"
      ]
     },
     "execution_count": 60,
     "metadata": {},
     "output_type": "execute_result"
    }
   ],
   "source": [
    "df[df[\"signature\"] == \"0:2|1:1|2:1|3:1|4:1|5:1|6:1|7:1\"]"
   ]
  },
  {
   "cell_type": "code",
   "execution_count": null,
   "metadata": {},
   "outputs": [],
   "source": []
  }
 ],
 "metadata": {
  "colab": {
   "collapsed_sections": [],
   "name": "Weisfeiler-Lehman isomorphism test.ipynb",
   "provenance": []
  },
  "kernelspec": {
   "display_name": "base",
   "language": "python",
   "name": "python3"
  },
  "language_info": {
   "codemirror_mode": {
    "name": "ipython",
    "version": 3
   },
   "file_extension": ".py",
   "mimetype": "text/x-python",
   "name": "python",
   "nbconvert_exporter": "python",
   "pygments_lexer": "ipython3",
   "version": "3.11.4"
  }
 },
 "nbformat": 4,
 "nbformat_minor": 4
}
